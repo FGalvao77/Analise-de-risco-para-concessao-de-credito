{
  "nbformat": 4,
  "nbformat_minor": 0,
  "metadata": {
    "colab": {
      "name": "Análise de risco para concessão de crédito.ipynb",
      "provenance": [],
      "collapsed_sections": [],
      "authorship_tag": "ABX9TyMFzT9HDwsYTvWar6oxEWOa",
      "include_colab_link": true
    },
    "kernelspec": {
      "name": "python3",
      "display_name": "Python 3"
    },
    "language_info": {
      "name": "python"
    }
  },
  "cells": [
    {
      "cell_type": "markdown",
      "metadata": {
        "id": "view-in-github",
        "colab_type": "text"
      },
      "source": [
        "<a href=\"https://colab.research.google.com/github/FGalvao77/Analise-de-risco-para-concessao-de-credito/blob/main/An%C3%A1lise_de_risco_para_concess%C3%A3o_de_cr%C3%A9dito.ipynb\" target=\"_parent\"><img src=\"https://colab.research.google.com/assets/colab-badge.svg\" alt=\"Open In Colab\"/></a>"
      ]
    },
    {
      "cell_type": "markdown",
      "metadata": {
        "id": "mr7hrxdClAaF"
      },
      "source": [
        "# **Análise de risco para concessão de crédito**"
      ]
    },
    {
      "cell_type": "code",
      "metadata": {
        "id": "locS5jJIP0fV"
      },
      "source": [
        "# importando as bibliotecas\n",
        "import pandas as pd\n",
        "import numpy as np\n",
        "from scipy import stats\n",
        "\n",
        "import xgboost as xgb\n",
        "import lightgbm as lgb  \n",
        "\n",
        "from sklearn import metrics\n",
        "from sklearn.model_selection import train_test_split, RandomizedSearchCV, GridSearchCV\n",
        "\n",
        "import matplotlib.pyplot as plt\n",
        "import seaborn as sns\n",
        "\n",
        "%matplotlib inline"
      ],
      "execution_count": null,
      "outputs": []
    },
    {
      "cell_type": "code",
      "metadata": {
        "id": "6BTDe4wOP9o7"
      },
      "source": [
        "# carregando o conjunto de dados de treino\n",
        "train_data = pd.read_csv('https://raw.githubusercontent.com/FGalvao77/datasets/main/risco_credito/risco_credito_treino.csv')"
      ],
      "execution_count": null,
      "outputs": []
    },
    {
      "cell_type": "code",
      "metadata": {
        "colab": {
          "base_uri": "https://localhost:8080/",
          "height": 394
        },
        "id": "ozDuCIFYP9ma",
        "outputId": "6e5a02fe-1962-440a-a6d2-59b9ae23c4ed"
      },
      "source": [
        "# visualizando as 5 primeiras linhas do conjunto de treino\n",
        "train_data.head().T"
      ],
      "execution_count": null,
      "outputs": [
        {
          "output_type": "execute_result",
          "data": {
            "text/html": [
              "<div>\n",
              "<style scoped>\n",
              "    .dataframe tbody tr th:only-of-type {\n",
              "        vertical-align: middle;\n",
              "    }\n",
              "\n",
              "    .dataframe tbody tr th {\n",
              "        vertical-align: top;\n",
              "    }\n",
              "\n",
              "    .dataframe thead th {\n",
              "        text-align: right;\n",
              "    }\n",
              "</style>\n",
              "<table border=\"1\" class=\"dataframe\">\n",
              "  <thead>\n",
              "    <tr style=\"text-align: right;\">\n",
              "      <th></th>\n",
              "      <th>0</th>\n",
              "      <th>1</th>\n",
              "      <th>2</th>\n",
              "      <th>3</th>\n",
              "      <th>4</th>\n",
              "    </tr>\n",
              "  </thead>\n",
              "  <tbody>\n",
              "    <tr>\n",
              "      <th>inadimplente</th>\n",
              "      <td>1.000000</td>\n",
              "      <td>0.000000</td>\n",
              "      <td>0.000000</td>\n",
              "      <td>0.00000</td>\n",
              "      <td>0.000000</td>\n",
              "    </tr>\n",
              "    <tr>\n",
              "      <th>util_linhas_inseguras</th>\n",
              "      <td>0.766127</td>\n",
              "      <td>0.957151</td>\n",
              "      <td>0.658180</td>\n",
              "      <td>0.23381</td>\n",
              "      <td>0.907239</td>\n",
              "    </tr>\n",
              "    <tr>\n",
              "      <th>idade</th>\n",
              "      <td>45.000000</td>\n",
              "      <td>40.000000</td>\n",
              "      <td>38.000000</td>\n",
              "      <td>30.00000</td>\n",
              "      <td>49.000000</td>\n",
              "    </tr>\n",
              "    <tr>\n",
              "      <th>vezes_passou_de_30_59_dias</th>\n",
              "      <td>2.000000</td>\n",
              "      <td>0.000000</td>\n",
              "      <td>1.000000</td>\n",
              "      <td>0.00000</td>\n",
              "      <td>1.000000</td>\n",
              "    </tr>\n",
              "    <tr>\n",
              "      <th>razao_debito</th>\n",
              "      <td>0.802982</td>\n",
              "      <td>0.121876</td>\n",
              "      <td>0.085113</td>\n",
              "      <td>0.03605</td>\n",
              "      <td>0.024926</td>\n",
              "    </tr>\n",
              "    <tr>\n",
              "      <th>salario_mensal</th>\n",
              "      <td>9120.000000</td>\n",
              "      <td>2600.000000</td>\n",
              "      <td>3042.000000</td>\n",
              "      <td>3300.00000</td>\n",
              "      <td>63588.000000</td>\n",
              "    </tr>\n",
              "    <tr>\n",
              "      <th>numero_linhas_crdto_aberto</th>\n",
              "      <td>13.000000</td>\n",
              "      <td>4.000000</td>\n",
              "      <td>2.000000</td>\n",
              "      <td>5.00000</td>\n",
              "      <td>7.000000</td>\n",
              "    </tr>\n",
              "    <tr>\n",
              "      <th>numero_vezes_passou_90_dias</th>\n",
              "      <td>0.000000</td>\n",
              "      <td>0.000000</td>\n",
              "      <td>1.000000</td>\n",
              "      <td>0.00000</td>\n",
              "      <td>0.000000</td>\n",
              "    </tr>\n",
              "    <tr>\n",
              "      <th>numero_emprestimos_imobiliarios</th>\n",
              "      <td>6.000000</td>\n",
              "      <td>0.000000</td>\n",
              "      <td>0.000000</td>\n",
              "      <td>0.00000</td>\n",
              "      <td>1.000000</td>\n",
              "    </tr>\n",
              "    <tr>\n",
              "      <th>numero_de_vezes_que_passou_60_89_dias</th>\n",
              "      <td>0.000000</td>\n",
              "      <td>0.000000</td>\n",
              "      <td>0.000000</td>\n",
              "      <td>0.00000</td>\n",
              "      <td>0.000000</td>\n",
              "    </tr>\n",
              "    <tr>\n",
              "      <th>numero_de_dependentes</th>\n",
              "      <td>2.000000</td>\n",
              "      <td>1.000000</td>\n",
              "      <td>0.000000</td>\n",
              "      <td>0.00000</td>\n",
              "      <td>0.000000</td>\n",
              "    </tr>\n",
              "  </tbody>\n",
              "</table>\n",
              "</div>"
            ],
            "text/plain": [
              "                                                 0  ...             4\n",
              "inadimplente                              1.000000  ...      0.000000\n",
              "util_linhas_inseguras                     0.766127  ...      0.907239\n",
              "idade                                    45.000000  ...     49.000000\n",
              "vezes_passou_de_30_59_dias                2.000000  ...      1.000000\n",
              "razao_debito                              0.802982  ...      0.024926\n",
              "salario_mensal                         9120.000000  ...  63588.000000\n",
              "numero_linhas_crdto_aberto               13.000000  ...      7.000000\n",
              "numero_vezes_passou_90_dias               0.000000  ...      0.000000\n",
              "numero_emprestimos_imobiliarios           6.000000  ...      1.000000\n",
              "numero_de_vezes_que_passou_60_89_dias     0.000000  ...      0.000000\n",
              "numero_de_dependentes                     2.000000  ...      0.000000\n",
              "\n",
              "[11 rows x 5 columns]"
            ]
          },
          "metadata": {},
          "execution_count": 3
        }
      ]
    },
    {
      "cell_type": "code",
      "metadata": {
        "colab": {
          "base_uri": "https://localhost:8080/"
        },
        "id": "fho7-EaAP9kC",
        "outputId": "d1559d2f-b48e-4a58-b426-011c1533bf1f"
      },
      "source": [
        "# visualizando a dimensão do conjunto de dados de treino\n",
        "print(f'Tamanho do conjunto de dados de treino:\\n- {train_data.shape[0]} linhas e, \\n- {train_data.shape[1]} colunas.')"
      ],
      "execution_count": null,
      "outputs": [
        {
          "output_type": "stream",
          "name": "stdout",
          "text": [
            "Tamanho do conjunto de dados de treino:\n",
            "- 110000 linhas e, \n",
            "- 11 colunas.\n"
          ]
        }
      ]
    },
    {
      "cell_type": "code",
      "metadata": {
        "colab": {
          "base_uri": "https://localhost:8080/",
          "height": 394
        },
        "id": "OXoAtiXzP9hy",
        "outputId": "b120aac3-0efc-43f6-c0ab-c08d69e60a66"
      },
      "source": [
        "# visualizando as 3 primeiras linhas, 3 amostras aleatórias e as 3 últimas linhas do conjunto de treino\n",
        "pd.concat([train_data.head(3),train_data.sample(3),train_data.tail(3)]).T"
      ],
      "execution_count": null,
      "outputs": [
        {
          "output_type": "execute_result",
          "data": {
            "text/html": [
              "<div>\n",
              "<style scoped>\n",
              "    .dataframe tbody tr th:only-of-type {\n",
              "        vertical-align: middle;\n",
              "    }\n",
              "\n",
              "    .dataframe tbody tr th {\n",
              "        vertical-align: top;\n",
              "    }\n",
              "\n",
              "    .dataframe thead th {\n",
              "        text-align: right;\n",
              "    }\n",
              "</style>\n",
              "<table border=\"1\" class=\"dataframe\">\n",
              "  <thead>\n",
              "    <tr style=\"text-align: right;\">\n",
              "      <th></th>\n",
              "      <th>0</th>\n",
              "      <th>1</th>\n",
              "      <th>2</th>\n",
              "      <th>60112</th>\n",
              "      <th>48015</th>\n",
              "      <th>102328</th>\n",
              "      <th>109997</th>\n",
              "      <th>109998</th>\n",
              "      <th>109999</th>\n",
              "    </tr>\n",
              "  </thead>\n",
              "  <tbody>\n",
              "    <tr>\n",
              "      <th>inadimplente</th>\n",
              "      <td>1.000000</td>\n",
              "      <td>0.000000</td>\n",
              "      <td>0.000000</td>\n",
              "      <td>0.000000</td>\n",
              "      <td>0.000000</td>\n",
              "      <td>0.000000</td>\n",
              "      <td>0.000000</td>\n",
              "      <td>0.000000</td>\n",
              "      <td>0.000000</td>\n",
              "    </tr>\n",
              "    <tr>\n",
              "      <th>util_linhas_inseguras</th>\n",
              "      <td>0.766127</td>\n",
              "      <td>0.957151</td>\n",
              "      <td>0.658180</td>\n",
              "      <td>0.033482</td>\n",
              "      <td>0.054169</td>\n",
              "      <td>0.013216</td>\n",
              "      <td>0.181257</td>\n",
              "      <td>0.037699</td>\n",
              "      <td>1.000000</td>\n",
              "    </tr>\n",
              "    <tr>\n",
              "      <th>idade</th>\n",
              "      <td>45.000000</td>\n",
              "      <td>40.000000</td>\n",
              "      <td>38.000000</td>\n",
              "      <td>38.000000</td>\n",
              "      <td>47.000000</td>\n",
              "      <td>33.000000</td>\n",
              "      <td>43.000000</td>\n",
              "      <td>86.000000</td>\n",
              "      <td>57.000000</td>\n",
              "    </tr>\n",
              "    <tr>\n",
              "      <th>vezes_passou_de_30_59_dias</th>\n",
              "      <td>2.000000</td>\n",
              "      <td>0.000000</td>\n",
              "      <td>1.000000</td>\n",
              "      <td>0.000000</td>\n",
              "      <td>0.000000</td>\n",
              "      <td>0.000000</td>\n",
              "      <td>0.000000</td>\n",
              "      <td>0.000000</td>\n",
              "      <td>0.000000</td>\n",
              "    </tr>\n",
              "    <tr>\n",
              "      <th>razao_debito</th>\n",
              "      <td>0.802982</td>\n",
              "      <td>0.121876</td>\n",
              "      <td>0.085113</td>\n",
              "      <td>0.257214</td>\n",
              "      <td>0.314929</td>\n",
              "      <td>0.283716</td>\n",
              "      <td>0.382635</td>\n",
              "      <td>0.248107</td>\n",
              "      <td>0.002352</td>\n",
              "    </tr>\n",
              "    <tr>\n",
              "      <th>salario_mensal</th>\n",
              "      <td>9120.000000</td>\n",
              "      <td>2600.000000</td>\n",
              "      <td>3042.000000</td>\n",
              "      <td>4400.000000</td>\n",
              "      <td>11500.000000</td>\n",
              "      <td>1000.000000</td>\n",
              "      <td>12000.000000</td>\n",
              "      <td>7000.000000</td>\n",
              "      <td>3825.000000</td>\n",
              "    </tr>\n",
              "    <tr>\n",
              "      <th>numero_linhas_crdto_aberto</th>\n",
              "      <td>13.000000</td>\n",
              "      <td>4.000000</td>\n",
              "      <td>2.000000</td>\n",
              "      <td>8.000000</td>\n",
              "      <td>12.000000</td>\n",
              "      <td>16.000000</td>\n",
              "      <td>13.000000</td>\n",
              "      <td>14.000000</td>\n",
              "      <td>1.000000</td>\n",
              "    </tr>\n",
              "    <tr>\n",
              "      <th>numero_vezes_passou_90_dias</th>\n",
              "      <td>0.000000</td>\n",
              "      <td>0.000000</td>\n",
              "      <td>1.000000</td>\n",
              "      <td>0.000000</td>\n",
              "      <td>0.000000</td>\n",
              "      <td>0.000000</td>\n",
              "      <td>0.000000</td>\n",
              "      <td>0.000000</td>\n",
              "      <td>0.000000</td>\n",
              "    </tr>\n",
              "    <tr>\n",
              "      <th>numero_emprestimos_imobiliarios</th>\n",
              "      <td>6.000000</td>\n",
              "      <td>0.000000</td>\n",
              "      <td>0.000000</td>\n",
              "      <td>1.000000</td>\n",
              "      <td>2.000000</td>\n",
              "      <td>0.000000</td>\n",
              "      <td>2.000000</td>\n",
              "      <td>2.000000</td>\n",
              "      <td>0.000000</td>\n",
              "    </tr>\n",
              "    <tr>\n",
              "      <th>numero_de_vezes_que_passou_60_89_dias</th>\n",
              "      <td>0.000000</td>\n",
              "      <td>0.000000</td>\n",
              "      <td>0.000000</td>\n",
              "      <td>0.000000</td>\n",
              "      <td>0.000000</td>\n",
              "      <td>0.000000</td>\n",
              "      <td>0.000000</td>\n",
              "      <td>0.000000</td>\n",
              "      <td>0.000000</td>\n",
              "    </tr>\n",
              "    <tr>\n",
              "      <th>numero_de_dependentes</th>\n",
              "      <td>2.000000</td>\n",
              "      <td>1.000000</td>\n",
              "      <td>0.000000</td>\n",
              "      <td>0.000000</td>\n",
              "      <td>3.000000</td>\n",
              "      <td>0.000000</td>\n",
              "      <td>2.000000</td>\n",
              "      <td>1.000000</td>\n",
              "      <td>0.000000</td>\n",
              "    </tr>\n",
              "  </tbody>\n",
              "</table>\n",
              "</div>"
            ],
            "text/plain": [
              "                                            0       ...       109999\n",
              "inadimplente                              1.000000  ...     0.000000\n",
              "util_linhas_inseguras                     0.766127  ...     1.000000\n",
              "idade                                    45.000000  ...    57.000000\n",
              "vezes_passou_de_30_59_dias                2.000000  ...     0.000000\n",
              "razao_debito                              0.802982  ...     0.002352\n",
              "salario_mensal                         9120.000000  ...  3825.000000\n",
              "numero_linhas_crdto_aberto               13.000000  ...     1.000000\n",
              "numero_vezes_passou_90_dias               0.000000  ...     0.000000\n",
              "numero_emprestimos_imobiliarios           6.000000  ...     0.000000\n",
              "numero_de_vezes_que_passou_60_89_dias     0.000000  ...     0.000000\n",
              "numero_de_dependentes                     2.000000  ...     0.000000\n",
              "\n",
              "[11 rows x 9 columns]"
            ]
          },
          "metadata": {},
          "execution_count": 5
        }
      ]
    },
    {
      "cell_type": "code",
      "metadata": {
        "colab": {
          "base_uri": "https://localhost:8080/"
        },
        "id": "kzvVz6I0OsHN",
        "outputId": "7c3100e8-51eb-41c1-e422-f0fb3fe033b4"
      },
      "source": [
        "# informações gerais do conjunto de dados de treino\n",
        "train_data.info()"
      ],
      "execution_count": null,
      "outputs": [
        {
          "output_type": "stream",
          "name": "stdout",
          "text": [
            "<class 'pandas.core.frame.DataFrame'>\n",
            "RangeIndex: 110000 entries, 0 to 109999\n",
            "Data columns (total 11 columns):\n",
            " #   Column                                 Non-Null Count   Dtype  \n",
            "---  ------                                 --------------   -----  \n",
            " 0   inadimplente                           110000 non-null  int64  \n",
            " 1   util_linhas_inseguras                  110000 non-null  float64\n",
            " 2   idade                                  110000 non-null  int64  \n",
            " 3   vezes_passou_de_30_59_dias             110000 non-null  int64  \n",
            " 4   razao_debito                           110000 non-null  float64\n",
            " 5   salario_mensal                         88237 non-null   float64\n",
            " 6   numero_linhas_crdto_aberto             110000 non-null  int64  \n",
            " 7   numero_vezes_passou_90_dias            110000 non-null  int64  \n",
            " 8   numero_emprestimos_imobiliarios        110000 non-null  int64  \n",
            " 9   numero_de_vezes_que_passou_60_89_dias  110000 non-null  int64  \n",
            " 10  numero_de_dependentes                  107122 non-null  float64\n",
            "dtypes: float64(4), int64(7)\n",
            "memory usage: 9.2 MB\n"
          ]
        }
      ]
    },
    {
      "cell_type": "code",
      "metadata": {
        "colab": {
          "base_uri": "https://localhost:8080/"
        },
        "id": "K54cnI-5P9fL",
        "outputId": "93bd05a2-8e1e-4560-e889-85d6548dd906"
      },
      "source": [
        "# calculando a proporção de inadimplentes em relação aos adimplentes dos dados de treino\n",
        "zero_count = train_data['inadimplente'][train_data['inadimplente'] == 0].count()\n",
        "one_count = train_data['inadimplente'][train_data['inadimplente'] == 1].count()\n",
        "proportion = zero_count/one_count\n",
        "\n",
        "print(f'A proporção entre inadimplentes e adimplentes é de 1 : {int(proportion)}')"
      ],
      "execution_count": null,
      "outputs": [
        {
          "output_type": "stream",
          "name": "stdout",
          "text": [
            "A proporção entre inadimplentes e adimplentes é de 1 : 14\n"
          ]
        }
      ]
    },
    {
      "cell_type": "code",
      "metadata": {
        "id": "FmzElTVwP9cq"
      },
      "source": [
        "# carregando o conjunto de dados de teste\n",
        "test_data = pd.read_csv('https://raw.githubusercontent.com/FGalvao77/datasets/main/risco_credito/risco_credito_teste.csv')"
      ],
      "execution_count": null,
      "outputs": []
    },
    {
      "cell_type": "code",
      "metadata": {
        "colab": {
          "base_uri": "https://localhost:8080/"
        },
        "id": "NN3h12BQP9aC",
        "outputId": "c7a26550-2a29-4146-c8a2-18d30c2d56e2"
      },
      "source": [
        "# visualizando a dimensão do conjunto de dados de teste\n",
        "print(f'Tamanho do conjunto de dados de teste:\\n- {test_data.shape[0]} linhas e, \\n- {test_data.shape[1]} colunas.')"
      ],
      "execution_count": null,
      "outputs": [
        {
          "output_type": "stream",
          "name": "stdout",
          "text": [
            "Tamanho do conjunto de dados de teste:\n",
            "- 40000 linhas e, \n",
            "- 10 colunas.\n"
          ]
        }
      ]
    },
    {
      "cell_type": "code",
      "metadata": {
        "colab": {
          "base_uri": "https://localhost:8080/",
          "height": 363
        },
        "id": "hu83lr5bRib0",
        "outputId": "61e4caff-d4dc-4d8a-f675-a8e32f997210"
      },
      "source": [
        "# visualizando as 3 primeiras linhas, 3 amostras aleatórias e as 3 últimas linhas do conjunto de teste\n",
        "pd.concat([test_data.head(3),test_data.sample(3),test_data.tail(3)]).T"
      ],
      "execution_count": null,
      "outputs": [
        {
          "output_type": "execute_result",
          "data": {
            "text/html": [
              "<div>\n",
              "<style scoped>\n",
              "    .dataframe tbody tr th:only-of-type {\n",
              "        vertical-align: middle;\n",
              "    }\n",
              "\n",
              "    .dataframe tbody tr th {\n",
              "        vertical-align: top;\n",
              "    }\n",
              "\n",
              "    .dataframe thead th {\n",
              "        text-align: right;\n",
              "    }\n",
              "</style>\n",
              "<table border=\"1\" class=\"dataframe\">\n",
              "  <thead>\n",
              "    <tr style=\"text-align: right;\">\n",
              "      <th></th>\n",
              "      <th>0</th>\n",
              "      <th>1</th>\n",
              "      <th>2</th>\n",
              "      <th>14409</th>\n",
              "      <th>10775</th>\n",
              "      <th>12636</th>\n",
              "      <th>39997</th>\n",
              "      <th>39998</th>\n",
              "      <th>39999</th>\n",
              "    </tr>\n",
              "  </thead>\n",
              "  <tbody>\n",
              "    <tr>\n",
              "      <th>util_linhas_inseguras</th>\n",
              "      <td>0.025849</td>\n",
              "      <td>0.667083</td>\n",
              "      <td>0.007093</td>\n",
              "      <td>0.214060</td>\n",
              "      <td>0.406866</td>\n",
              "      <td>0.055542</td>\n",
              "      <td>0.817745</td>\n",
              "      <td>0.106139</td>\n",
              "      <td>1.000000</td>\n",
              "    </tr>\n",
              "    <tr>\n",
              "      <th>idade</th>\n",
              "      <td>62.000000</td>\n",
              "      <td>55.000000</td>\n",
              "      <td>44.000000</td>\n",
              "      <td>58.000000</td>\n",
              "      <td>55.000000</td>\n",
              "      <td>64.000000</td>\n",
              "      <td>70.000000</td>\n",
              "      <td>64.000000</td>\n",
              "      <td>28.000000</td>\n",
              "    </tr>\n",
              "    <tr>\n",
              "      <th>vezes_passou_de_30_59_dias</th>\n",
              "      <td>0.000000</td>\n",
              "      <td>0.000000</td>\n",
              "      <td>0.000000</td>\n",
              "      <td>0.000000</td>\n",
              "      <td>0.000000</td>\n",
              "      <td>0.000000</td>\n",
              "      <td>0.000000</td>\n",
              "      <td>2.000000</td>\n",
              "      <td>0.000000</td>\n",
              "    </tr>\n",
              "    <tr>\n",
              "      <th>razao_debito</th>\n",
              "      <td>0.081775</td>\n",
              "      <td>0.153112</td>\n",
              "      <td>0.148800</td>\n",
              "      <td>0.055296</td>\n",
              "      <td>1672.000000</td>\n",
              "      <td>0.026097</td>\n",
              "      <td>0.663056</td>\n",
              "      <td>0.865438</td>\n",
              "      <td>0.002285</td>\n",
              "    </tr>\n",
              "    <tr>\n",
              "      <th>salario_mensal</th>\n",
              "      <td>8180.000000</td>\n",
              "      <td>2200.000000</td>\n",
              "      <td>7499.000000</td>\n",
              "      <td>1500.000000</td>\n",
              "      <td>NaN</td>\n",
              "      <td>1800.000000</td>\n",
              "      <td>6000.000000</td>\n",
              "      <td>5045.000000</td>\n",
              "      <td>3500.000000</td>\n",
              "    </tr>\n",
              "    <tr>\n",
              "      <th>numero_linhas_crdto_aberto</th>\n",
              "      <td>3.000000</td>\n",
              "      <td>3.000000</td>\n",
              "      <td>20.000000</td>\n",
              "      <td>2.000000</td>\n",
              "      <td>5.000000</td>\n",
              "      <td>8.000000</td>\n",
              "      <td>17.000000</td>\n",
              "      <td>12.000000</td>\n",
              "      <td>0.000000</td>\n",
              "    </tr>\n",
              "    <tr>\n",
              "      <th>numero_vezes_passou_90_dias</th>\n",
              "      <td>0.000000</td>\n",
              "      <td>0.000000</td>\n",
              "      <td>0.000000</td>\n",
              "      <td>0.000000</td>\n",
              "      <td>0.000000</td>\n",
              "      <td>0.000000</td>\n",
              "      <td>0.000000</td>\n",
              "      <td>0.000000</td>\n",
              "      <td>1.000000</td>\n",
              "    </tr>\n",
              "    <tr>\n",
              "      <th>numero_emprestimos_imobiliarios</th>\n",
              "      <td>2.000000</td>\n",
              "      <td>0.000000</td>\n",
              "      <td>1.000000</td>\n",
              "      <td>0.000000</td>\n",
              "      <td>1.000000</td>\n",
              "      <td>0.000000</td>\n",
              "      <td>2.000000</td>\n",
              "      <td>4.000000</td>\n",
              "      <td>0.000000</td>\n",
              "    </tr>\n",
              "    <tr>\n",
              "      <th>numero_de_vezes_que_passou_60_89_dias</th>\n",
              "      <td>0.000000</td>\n",
              "      <td>0.000000</td>\n",
              "      <td>0.000000</td>\n",
              "      <td>0.000000</td>\n",
              "      <td>0.000000</td>\n",
              "      <td>0.000000</td>\n",
              "      <td>0.000000</td>\n",
              "      <td>0.000000</td>\n",
              "      <td>0.000000</td>\n",
              "    </tr>\n",
              "    <tr>\n",
              "      <th>numero_de_dependentes</th>\n",
              "      <td>0.000000</td>\n",
              "      <td>0.000000</td>\n",
              "      <td>0.000000</td>\n",
              "      <td>0.000000</td>\n",
              "      <td>0.000000</td>\n",
              "      <td>0.000000</td>\n",
              "      <td>0.000000</td>\n",
              "      <td>0.000000</td>\n",
              "      <td>0.000000</td>\n",
              "    </tr>\n",
              "  </tbody>\n",
              "</table>\n",
              "</div>"
            ],
            "text/plain": [
              "                                             0      ...        39999\n",
              "util_linhas_inseguras                     0.025849  ...     1.000000\n",
              "idade                                    62.000000  ...    28.000000\n",
              "vezes_passou_de_30_59_dias                0.000000  ...     0.000000\n",
              "razao_debito                              0.081775  ...     0.002285\n",
              "salario_mensal                         8180.000000  ...  3500.000000\n",
              "numero_linhas_crdto_aberto                3.000000  ...     0.000000\n",
              "numero_vezes_passou_90_dias               0.000000  ...     1.000000\n",
              "numero_emprestimos_imobiliarios           2.000000  ...     0.000000\n",
              "numero_de_vezes_que_passou_60_89_dias     0.000000  ...     0.000000\n",
              "numero_de_dependentes                     0.000000  ...     0.000000\n",
              "\n",
              "[10 rows x 9 columns]"
            ]
          },
          "metadata": {},
          "execution_count": 10
        }
      ]
    },
    {
      "cell_type": "code",
      "metadata": {
        "colab": {
          "base_uri": "https://localhost:8080/",
          "height": 394
        },
        "id": "icerbyo1RoZ0",
        "outputId": "84a2b383-ebd4-4a5f-f3bb-342678b7f782"
      },
      "source": [
        "# estatística descritiva do conjunto de dados de treino\n",
        "train_data.describe().T.round(4)"
      ],
      "execution_count": null,
      "outputs": [
        {
          "output_type": "execute_result",
          "data": {
            "text/html": [
              "<div>\n",
              "<style scoped>\n",
              "    .dataframe tbody tr th:only-of-type {\n",
              "        vertical-align: middle;\n",
              "    }\n",
              "\n",
              "    .dataframe tbody tr th {\n",
              "        vertical-align: top;\n",
              "    }\n",
              "\n",
              "    .dataframe thead th {\n",
              "        text-align: right;\n",
              "    }\n",
              "</style>\n",
              "<table border=\"1\" class=\"dataframe\">\n",
              "  <thead>\n",
              "    <tr style=\"text-align: right;\">\n",
              "      <th></th>\n",
              "      <th>count</th>\n",
              "      <th>mean</th>\n",
              "      <th>std</th>\n",
              "      <th>min</th>\n",
              "      <th>25%</th>\n",
              "      <th>50%</th>\n",
              "      <th>75%</th>\n",
              "      <th>max</th>\n",
              "    </tr>\n",
              "  </thead>\n",
              "  <tbody>\n",
              "    <tr>\n",
              "      <th>inadimplente</th>\n",
              "      <td>110000.0</td>\n",
              "      <td>0.0666</td>\n",
              "      <td>0.2494</td>\n",
              "      <td>0.0</td>\n",
              "      <td>0.0000</td>\n",
              "      <td>0.0000</td>\n",
              "      <td>0.0000</td>\n",
              "      <td>1.0</td>\n",
              "    </tr>\n",
              "    <tr>\n",
              "      <th>util_linhas_inseguras</th>\n",
              "      <td>110000.0</td>\n",
              "      <td>5.9300</td>\n",
              "      <td>252.3020</td>\n",
              "      <td>0.0</td>\n",
              "      <td>0.0301</td>\n",
              "      <td>0.1559</td>\n",
              "      <td>0.5628</td>\n",
              "      <td>50708.0</td>\n",
              "    </tr>\n",
              "    <tr>\n",
              "      <th>idade</th>\n",
              "      <td>110000.0</td>\n",
              "      <td>52.2556</td>\n",
              "      <td>14.7682</td>\n",
              "      <td>0.0</td>\n",
              "      <td>41.0000</td>\n",
              "      <td>52.0000</td>\n",
              "      <td>63.0000</td>\n",
              "      <td>109.0</td>\n",
              "    </tr>\n",
              "    <tr>\n",
              "      <th>vezes_passou_de_30_59_dias</th>\n",
              "      <td>110000.0</td>\n",
              "      <td>0.4241</td>\n",
              "      <td>4.2408</td>\n",
              "      <td>0.0</td>\n",
              "      <td>0.0000</td>\n",
              "      <td>0.0000</td>\n",
              "      <td>0.0000</td>\n",
              "      <td>98.0</td>\n",
              "    </tr>\n",
              "    <tr>\n",
              "      <th>razao_debito</th>\n",
              "      <td>110000.0</td>\n",
              "      <td>354.8236</td>\n",
              "      <td>2074.1404</td>\n",
              "      <td>0.0</td>\n",
              "      <td>0.1750</td>\n",
              "      <td>0.3667</td>\n",
              "      <td>0.8669</td>\n",
              "      <td>329664.0</td>\n",
              "    </tr>\n",
              "    <tr>\n",
              "      <th>salario_mensal</th>\n",
              "      <td>88237.0</td>\n",
              "      <td>6637.4111</td>\n",
              "      <td>13383.9509</td>\n",
              "      <td>0.0</td>\n",
              "      <td>3400.0000</td>\n",
              "      <td>5400.0000</td>\n",
              "      <td>8225.0000</td>\n",
              "      <td>3008750.0</td>\n",
              "    </tr>\n",
              "    <tr>\n",
              "      <th>numero_linhas_crdto_aberto</th>\n",
              "      <td>110000.0</td>\n",
              "      <td>8.4456</td>\n",
              "      <td>5.1390</td>\n",
              "      <td>0.0</td>\n",
              "      <td>5.0000</td>\n",
              "      <td>8.0000</td>\n",
              "      <td>11.0000</td>\n",
              "      <td>58.0</td>\n",
              "    </tr>\n",
              "    <tr>\n",
              "      <th>numero_vezes_passou_90_dias</th>\n",
              "      <td>110000.0</td>\n",
              "      <td>0.2700</td>\n",
              "      <td>4.2173</td>\n",
              "      <td>0.0</td>\n",
              "      <td>0.0000</td>\n",
              "      <td>0.0000</td>\n",
              "      <td>0.0000</td>\n",
              "      <td>98.0</td>\n",
              "    </tr>\n",
              "    <tr>\n",
              "      <th>numero_emprestimos_imobiliarios</th>\n",
              "      <td>110000.0</td>\n",
              "      <td>1.0199</td>\n",
              "      <td>1.1360</td>\n",
              "      <td>0.0</td>\n",
              "      <td>0.0000</td>\n",
              "      <td>1.0000</td>\n",
              "      <td>2.0000</td>\n",
              "      <td>54.0</td>\n",
              "    </tr>\n",
              "    <tr>\n",
              "      <th>numero_de_vezes_que_passou_60_89_dias</th>\n",
              "      <td>110000.0</td>\n",
              "      <td>0.2439</td>\n",
              "      <td>4.2041</td>\n",
              "      <td>0.0</td>\n",
              "      <td>0.0000</td>\n",
              "      <td>0.0000</td>\n",
              "      <td>0.0000</td>\n",
              "      <td>98.0</td>\n",
              "    </tr>\n",
              "    <tr>\n",
              "      <th>numero_de_dependentes</th>\n",
              "      <td>107122.0</td>\n",
              "      <td>0.7575</td>\n",
              "      <td>1.1147</td>\n",
              "      <td>0.0</td>\n",
              "      <td>0.0000</td>\n",
              "      <td>0.0000</td>\n",
              "      <td>1.0000</td>\n",
              "      <td>20.0</td>\n",
              "    </tr>\n",
              "  </tbody>\n",
              "</table>\n",
              "</div>"
            ],
            "text/plain": [
              "                                          count  ...        max\n",
              "inadimplente                           110000.0  ...        1.0\n",
              "util_linhas_inseguras                  110000.0  ...    50708.0\n",
              "idade                                  110000.0  ...      109.0\n",
              "vezes_passou_de_30_59_dias             110000.0  ...       98.0\n",
              "razao_debito                           110000.0  ...   329664.0\n",
              "salario_mensal                          88237.0  ...  3008750.0\n",
              "numero_linhas_crdto_aberto             110000.0  ...       58.0\n",
              "numero_vezes_passou_90_dias            110000.0  ...       98.0\n",
              "numero_emprestimos_imobiliarios        110000.0  ...       54.0\n",
              "numero_de_vezes_que_passou_60_89_dias  110000.0  ...       98.0\n",
              "numero_de_dependentes                  107122.0  ...       20.0\n",
              "\n",
              "[11 rows x 8 columns]"
            ]
          },
          "metadata": {},
          "execution_count": 11
        }
      ]
    },
    {
      "cell_type": "code",
      "metadata": {
        "colab": {
          "base_uri": "https://localhost:8080/",
          "height": 363
        },
        "id": "Ha2Ri0dT0gX4",
        "outputId": "4f40b4d5-d6af-4682-9d40-101f74322ec1"
      },
      "source": [
        "# estatística descritiva do conjunto de dados de teste\n",
        "test_data.describe().T.round(4)"
      ],
      "execution_count": null,
      "outputs": [
        {
          "output_type": "execute_result",
          "data": {
            "text/html": [
              "<div>\n",
              "<style scoped>\n",
              "    .dataframe tbody tr th:only-of-type {\n",
              "        vertical-align: middle;\n",
              "    }\n",
              "\n",
              "    .dataframe tbody tr th {\n",
              "        vertical-align: top;\n",
              "    }\n",
              "\n",
              "    .dataframe thead th {\n",
              "        text-align: right;\n",
              "    }\n",
              "</style>\n",
              "<table border=\"1\" class=\"dataframe\">\n",
              "  <thead>\n",
              "    <tr style=\"text-align: right;\">\n",
              "      <th></th>\n",
              "      <th>count</th>\n",
              "      <th>mean</th>\n",
              "      <th>std</th>\n",
              "      <th>min</th>\n",
              "      <th>25%</th>\n",
              "      <th>50%</th>\n",
              "      <th>75%</th>\n",
              "      <th>max</th>\n",
              "    </tr>\n",
              "  </thead>\n",
              "  <tbody>\n",
              "    <tr>\n",
              "      <th>util_linhas_inseguras</th>\n",
              "      <td>40000.0</td>\n",
              "      <td>6.3742</td>\n",
              "      <td>242.6172</td>\n",
              "      <td>0.0</td>\n",
              "      <td>0.0294</td>\n",
              "      <td>0.1495</td>\n",
              "      <td>0.5498</td>\n",
              "      <td>22000.0</td>\n",
              "    </tr>\n",
              "    <tr>\n",
              "      <th>idade</th>\n",
              "      <td>40000.0</td>\n",
              "      <td>52.4040</td>\n",
              "      <td>14.7815</td>\n",
              "      <td>21.0</td>\n",
              "      <td>41.0000</td>\n",
              "      <td>52.0000</td>\n",
              "      <td>63.0000</td>\n",
              "      <td>109.0</td>\n",
              "    </tr>\n",
              "    <tr>\n",
              "      <th>vezes_passou_de_30_59_dias</th>\n",
              "      <td>40000.0</td>\n",
              "      <td>0.4127</td>\n",
              "      <td>4.0579</td>\n",
              "      <td>0.0</td>\n",
              "      <td>0.0000</td>\n",
              "      <td>0.0000</td>\n",
              "      <td>0.0000</td>\n",
              "      <td>98.0</td>\n",
              "    </tr>\n",
              "    <tr>\n",
              "      <th>razao_debito</th>\n",
              "      <td>40000.0</td>\n",
              "      <td>348.0042</td>\n",
              "      <td>1934.4362</td>\n",
              "      <td>0.0</td>\n",
              "      <td>0.1754</td>\n",
              "      <td>0.3662</td>\n",
              "      <td>0.8723</td>\n",
              "      <td>307001.0</td>\n",
              "    </tr>\n",
              "    <tr>\n",
              "      <th>salario_mensal</th>\n",
              "      <td>32032.0</td>\n",
              "      <td>6760.6018</td>\n",
              "      <td>16836.3866</td>\n",
              "      <td>0.0</td>\n",
              "      <td>3400.0000</td>\n",
              "      <td>5409.5000</td>\n",
              "      <td>8284.0000</td>\n",
              "      <td>1794060.0</td>\n",
              "    </tr>\n",
              "    <tr>\n",
              "      <th>numero_linhas_crdto_aberto</th>\n",
              "      <td>40000.0</td>\n",
              "      <td>8.4725</td>\n",
              "      <td>5.1650</td>\n",
              "      <td>0.0</td>\n",
              "      <td>5.0000</td>\n",
              "      <td>8.0000</td>\n",
              "      <td>11.0000</td>\n",
              "      <td>57.0</td>\n",
              "    </tr>\n",
              "    <tr>\n",
              "      <th>numero_vezes_passou_90_dias</th>\n",
              "      <td>40000.0</td>\n",
              "      <td>0.2550</td>\n",
              "      <td>4.0343</td>\n",
              "      <td>0.0</td>\n",
              "      <td>0.0000</td>\n",
              "      <td>0.0000</td>\n",
              "      <td>0.0000</td>\n",
              "      <td>98.0</td>\n",
              "    </tr>\n",
              "    <tr>\n",
              "      <th>numero_emprestimos_imobiliarios</th>\n",
              "      <td>40000.0</td>\n",
              "      <td>1.0137</td>\n",
              "      <td>1.1125</td>\n",
              "      <td>0.0</td>\n",
              "      <td>0.0000</td>\n",
              "      <td>1.0000</td>\n",
              "      <td>2.0000</td>\n",
              "      <td>25.0</td>\n",
              "    </tr>\n",
              "    <tr>\n",
              "      <th>numero_de_vezes_que_passou_60_89_dias</th>\n",
              "      <td>40000.0</td>\n",
              "      <td>0.2308</td>\n",
              "      <td>4.0175</td>\n",
              "      <td>0.0</td>\n",
              "      <td>0.0000</td>\n",
              "      <td>0.0000</td>\n",
              "      <td>0.0000</td>\n",
              "      <td>98.0</td>\n",
              "    </tr>\n",
              "    <tr>\n",
              "      <th>numero_de_dependentes</th>\n",
              "      <td>38954.0</td>\n",
              "      <td>0.7565</td>\n",
              "      <td>1.1162</td>\n",
              "      <td>0.0</td>\n",
              "      <td>0.0000</td>\n",
              "      <td>0.0000</td>\n",
              "      <td>1.0000</td>\n",
              "      <td>13.0</td>\n",
              "    </tr>\n",
              "  </tbody>\n",
              "</table>\n",
              "</div>"
            ],
            "text/plain": [
              "                                         count       mean  ...        75%        max\n",
              "util_linhas_inseguras                  40000.0     6.3742  ...     0.5498    22000.0\n",
              "idade                                  40000.0    52.4040  ...    63.0000      109.0\n",
              "vezes_passou_de_30_59_dias             40000.0     0.4127  ...     0.0000       98.0\n",
              "razao_debito                           40000.0   348.0042  ...     0.8723   307001.0\n",
              "salario_mensal                         32032.0  6760.6018  ...  8284.0000  1794060.0\n",
              "numero_linhas_crdto_aberto             40000.0     8.4725  ...    11.0000       57.0\n",
              "numero_vezes_passou_90_dias            40000.0     0.2550  ...     0.0000       98.0\n",
              "numero_emprestimos_imobiliarios        40000.0     1.0137  ...     2.0000       25.0\n",
              "numero_de_vezes_que_passou_60_89_dias  40000.0     0.2308  ...     0.0000       98.0\n",
              "numero_de_dependentes                  38954.0     0.7565  ...     1.0000       13.0\n",
              "\n",
              "[10 rows x 8 columns]"
            ]
          },
          "metadata": {},
          "execution_count": 12
        }
      ]
    },
    {
      "cell_type": "code",
      "metadata": {
        "colab": {
          "base_uri": "https://localhost:8080/"
        },
        "id": "SI-MRbdGoEBy",
        "outputId": "3fb783e4-ec4f-4965-a84f-1dd5a82f4414"
      },
      "source": [
        "# visualizando as instâncias únicas da variável alvo\n",
        "train_data['inadimplente'].unique()"
      ],
      "execution_count": null,
      "outputs": [
        {
          "output_type": "execute_result",
          "data": {
            "text/plain": [
              "array([1, 0])"
            ]
          },
          "metadata": {},
          "execution_count": 13
        }
      ]
    },
    {
      "cell_type": "code",
      "metadata": {
        "colab": {
          "base_uri": "https://localhost:8080/"
        },
        "id": "GQL23B9En4SB",
        "outputId": "bcc5625d-1c5e-4702-8f8c-cc45717b5406"
      },
      "source": [
        "# distribuição relativa das instâncias da variável avo\n",
        "train_data['inadimplente'].value_counts(normalize=True) * 100"
      ],
      "execution_count": null,
      "outputs": [
        {
          "output_type": "execute_result",
          "data": {
            "text/plain": [
              "0    93.335455\n",
              "1     6.664545\n",
              "Name: inadimplente, dtype: float64"
            ]
          },
          "metadata": {},
          "execution_count": 14
        }
      ]
    },
    {
      "cell_type": "markdown",
      "metadata": {
        "id": "vauw68iLgwAH"
      },
      "source": [
        "> Os dados estão desbalanceados em relação ao valor alvo."
      ]
    },
    {
      "cell_type": "code",
      "metadata": {
        "colab": {
          "base_uri": "https://localhost:8080/",
          "height": 473
        },
        "id": "tuzxIXRXb7vE",
        "outputId": "fe1522d7-72d9-4550-8c9f-ece0233e46d5"
      },
      "source": [
        "# distribuição dos dados da variável alvo - inadimplente\n",
        "plt.figure(figsize=(18, 7))\n",
        "plt.title('Distribuição da frequência absoluta da variável \"inadimplente\"\\n', \n",
        "         fontsize = 12, fontweight = 'bold')\n",
        "sns.countplot(data=train_data, y='inadimplente');"
      ],
      "execution_count": null,
      "outputs": [
        {
          "output_type": "display_data",
          "data": {
            "image/png": "[encoded data removed]",
            "text/plain": [
              "<Figure size 1296x504 with 1 Axes>"
            ]
          },
          "metadata": {
            "needs_background": "light"
          }
        }
      ]
    },
    {
      "cell_type": "code",
      "metadata": {
        "colab": {
          "base_uri": "https://localhost:8080/"
        },
        "id": "RIPEQBy5n_Ui",
        "outputId": "cf959510-2f41-42fc-daf8-552cbd8600a9"
      },
      "source": [
        "# contabilizando as instâncias únicas dos atributos do conjunto de dados de treino\n",
        "train_data.nunique()"
      ],
      "execution_count": null,
      "outputs": [
        {
          "output_type": "execute_result",
          "data": {
            "text/plain": [
              "inadimplente                                 2\n",
              "util_linhas_inseguras                    92671\n",
              "idade                                       86\n",
              "vezes_passou_de_30_59_dias                  15\n",
              "razao_debito                             86002\n",
              "salario_mensal                           12228\n",
              "numero_linhas_crdto_aberto                  57\n",
              "numero_vezes_passou_90_dias                 18\n",
              "numero_emprestimos_imobiliarios             28\n",
              "numero_de_vezes_que_passou_60_89_dias       13\n",
              "numero_de_dependentes                       12\n",
              "dtype: int64"
            ]
          },
          "metadata": {},
          "execution_count": 16
        }
      ]
    },
    {
      "cell_type": "code",
      "metadata": {
        "colab": {
          "base_uri": "https://localhost:8080/"
        },
        "id": "PzL4xVxc2GgL",
        "outputId": "0649ffca-2ecf-435a-cf9c-ee56210c072e"
      },
      "source": [
        "# contabilizando as instâncias únicas dos atributos do conjunto de dados de teste\n",
        "test_data.nunique()"
      ],
      "execution_count": null,
      "outputs": [
        {
          "output_type": "execute_result",
          "data": {
            "text/plain": [
              "util_linhas_inseguras                    34211\n",
              "idade                                       81\n",
              "vezes_passou_de_30_59_dias                  14\n",
              "razao_debito                             33800\n",
              "salario_mensal                            7879\n",
              "numero_linhas_crdto_aberto                  52\n",
              "numero_vezes_passou_90_dias                 18\n",
              "numero_emprestimos_imobiliarios             21\n",
              "numero_de_vezes_que_passou_60_89_dias       10\n",
              "numero_de_dependentes                       12\n",
              "dtype: int64"
            ]
          },
          "metadata": {},
          "execution_count": 17
        }
      ]
    },
    {
      "cell_type": "code",
      "metadata": {
        "colab": {
          "base_uri": "https://localhost:8080/",
          "height": 394
        },
        "id": "IOvUIfeQRoXE",
        "outputId": "a8c3071c-9ac7-4280-b1e9-65939ae3785e"
      },
      "source": [
        "# contabilizando valores nulos/ausentes no conjunto de dados de treino\n",
        "count = train_data.isnull().sum().sort_values(ascending = False)\n",
        "percent = (train_data.isnull().sum()/train_data.isnull().count()*100).sort_values(ascending = False)\n",
        "missing_train_data  = pd.concat([count, percent], axis=1, keys=['Count', '%'])\n",
        "missing_train_data.T.round(1).T"
      ],
      "execution_count": null,
      "outputs": [
        {
          "output_type": "execute_result",
          "data": {
            "text/html": [
              "<div>\n",
              "<style scoped>\n",
              "    .dataframe tbody tr th:only-of-type {\n",
              "        vertical-align: middle;\n",
              "    }\n",
              "\n",
              "    .dataframe tbody tr th {\n",
              "        vertical-align: top;\n",
              "    }\n",
              "\n",
              "    .dataframe thead th {\n",
              "        text-align: right;\n",
              "    }\n",
              "</style>\n",
              "<table border=\"1\" class=\"dataframe\">\n",
              "  <thead>\n",
              "    <tr style=\"text-align: right;\">\n",
              "      <th></th>\n",
              "      <th>Count</th>\n",
              "      <th>%</th>\n",
              "    </tr>\n",
              "  </thead>\n",
              "  <tbody>\n",
              "    <tr>\n",
              "      <th>salario_mensal</th>\n",
              "      <td>21763.0</td>\n",
              "      <td>19.8</td>\n",
              "    </tr>\n",
              "    <tr>\n",
              "      <th>numero_de_dependentes</th>\n",
              "      <td>2878.0</td>\n",
              "      <td>2.6</td>\n",
              "    </tr>\n",
              "    <tr>\n",
              "      <th>numero_de_vezes_que_passou_60_89_dias</th>\n",
              "      <td>0.0</td>\n",
              "      <td>0.0</td>\n",
              "    </tr>\n",
              "    <tr>\n",
              "      <th>numero_emprestimos_imobiliarios</th>\n",
              "      <td>0.0</td>\n",
              "      <td>0.0</td>\n",
              "    </tr>\n",
              "    <tr>\n",
              "      <th>numero_vezes_passou_90_dias</th>\n",
              "      <td>0.0</td>\n",
              "      <td>0.0</td>\n",
              "    </tr>\n",
              "    <tr>\n",
              "      <th>numero_linhas_crdto_aberto</th>\n",
              "      <td>0.0</td>\n",
              "      <td>0.0</td>\n",
              "    </tr>\n",
              "    <tr>\n",
              "      <th>razao_debito</th>\n",
              "      <td>0.0</td>\n",
              "      <td>0.0</td>\n",
              "    </tr>\n",
              "    <tr>\n",
              "      <th>vezes_passou_de_30_59_dias</th>\n",
              "      <td>0.0</td>\n",
              "      <td>0.0</td>\n",
              "    </tr>\n",
              "    <tr>\n",
              "      <th>idade</th>\n",
              "      <td>0.0</td>\n",
              "      <td>0.0</td>\n",
              "    </tr>\n",
              "    <tr>\n",
              "      <th>util_linhas_inseguras</th>\n",
              "      <td>0.0</td>\n",
              "      <td>0.0</td>\n",
              "    </tr>\n",
              "    <tr>\n",
              "      <th>inadimplente</th>\n",
              "      <td>0.0</td>\n",
              "      <td>0.0</td>\n",
              "    </tr>\n",
              "  </tbody>\n",
              "</table>\n",
              "</div>"
            ],
            "text/plain": [
              "                                         Count     %\n",
              "salario_mensal                         21763.0  19.8\n",
              "numero_de_dependentes                   2878.0   2.6\n",
              "numero_de_vezes_que_passou_60_89_dias      0.0   0.0\n",
              "numero_emprestimos_imobiliarios            0.0   0.0\n",
              "numero_vezes_passou_90_dias                0.0   0.0\n",
              "numero_linhas_crdto_aberto                 0.0   0.0\n",
              "razao_debito                               0.0   0.0\n",
              "vezes_passou_de_30_59_dias                 0.0   0.0\n",
              "idade                                      0.0   0.0\n",
              "util_linhas_inseguras                      0.0   0.0\n",
              "inadimplente                               0.0   0.0"
            ]
          },
          "metadata": {},
          "execution_count": 18
        }
      ]
    },
    {
      "cell_type": "code",
      "metadata": {
        "colab": {
          "base_uri": "https://localhost:8080/",
          "height": 363
        },
        "id": "mtWbbeerRoT8",
        "outputId": "3a7c0f44-8e83-4030-e18f-c3847db6d8ed"
      },
      "source": [
        "# contabilizando valores nulos/ausentes no conjunto de dados de teste\n",
        "count = test_data.isnull().sum().sort_values(ascending = False)\n",
        "percent = (test_data.isnull().sum()/test_data.isnull().count()*100).sort_values(ascending = False)\n",
        "missing_test_data  = pd.concat([count, percent], axis=1, keys=['Count', '%'])\n",
        "missing_test_data.T.round(1).T"
      ],
      "execution_count": null,
      "outputs": [
        {
          "output_type": "execute_result",
          "data": {
            "text/html": [
              "<div>\n",
              "<style scoped>\n",
              "    .dataframe tbody tr th:only-of-type {\n",
              "        vertical-align: middle;\n",
              "    }\n",
              "\n",
              "    .dataframe tbody tr th {\n",
              "        vertical-align: top;\n",
              "    }\n",
              "\n",
              "    .dataframe thead th {\n",
              "        text-align: right;\n",
              "    }\n",
              "</style>\n",
              "<table border=\"1\" class=\"dataframe\">\n",
              "  <thead>\n",
              "    <tr style=\"text-align: right;\">\n",
              "      <th></th>\n",
              "      <th>Count</th>\n",
              "      <th>%</th>\n",
              "    </tr>\n",
              "  </thead>\n",
              "  <tbody>\n",
              "    <tr>\n",
              "      <th>salario_mensal</th>\n",
              "      <td>7968.0</td>\n",
              "      <td>19.9</td>\n",
              "    </tr>\n",
              "    <tr>\n",
              "      <th>numero_de_dependentes</th>\n",
              "      <td>1046.0</td>\n",
              "      <td>2.6</td>\n",
              "    </tr>\n",
              "    <tr>\n",
              "      <th>numero_de_vezes_que_passou_60_89_dias</th>\n",
              "      <td>0.0</td>\n",
              "      <td>0.0</td>\n",
              "    </tr>\n",
              "    <tr>\n",
              "      <th>numero_emprestimos_imobiliarios</th>\n",
              "      <td>0.0</td>\n",
              "      <td>0.0</td>\n",
              "    </tr>\n",
              "    <tr>\n",
              "      <th>numero_vezes_passou_90_dias</th>\n",
              "      <td>0.0</td>\n",
              "      <td>0.0</td>\n",
              "    </tr>\n",
              "    <tr>\n",
              "      <th>numero_linhas_crdto_aberto</th>\n",
              "      <td>0.0</td>\n",
              "      <td>0.0</td>\n",
              "    </tr>\n",
              "    <tr>\n",
              "      <th>razao_debito</th>\n",
              "      <td>0.0</td>\n",
              "      <td>0.0</td>\n",
              "    </tr>\n",
              "    <tr>\n",
              "      <th>vezes_passou_de_30_59_dias</th>\n",
              "      <td>0.0</td>\n",
              "      <td>0.0</td>\n",
              "    </tr>\n",
              "    <tr>\n",
              "      <th>idade</th>\n",
              "      <td>0.0</td>\n",
              "      <td>0.0</td>\n",
              "    </tr>\n",
              "    <tr>\n",
              "      <th>util_linhas_inseguras</th>\n",
              "      <td>0.0</td>\n",
              "      <td>0.0</td>\n",
              "    </tr>\n",
              "  </tbody>\n",
              "</table>\n",
              "</div>"
            ],
            "text/plain": [
              "                                        Count     %\n",
              "salario_mensal                         7968.0  19.9\n",
              "numero_de_dependentes                  1046.0   2.6\n",
              "numero_de_vezes_que_passou_60_89_dias     0.0   0.0\n",
              "numero_emprestimos_imobiliarios           0.0   0.0\n",
              "numero_vezes_passou_90_dias               0.0   0.0\n",
              "numero_linhas_crdto_aberto                0.0   0.0\n",
              "razao_debito                              0.0   0.0\n",
              "vezes_passou_de_30_59_dias                0.0   0.0\n",
              "idade                                     0.0   0.0\n",
              "util_linhas_inseguras                     0.0   0.0"
            ]
          },
          "metadata": {},
          "execution_count": 19
        }
      ]
    },
    {
      "cell_type": "code",
      "metadata": {
        "colab": {
          "base_uri": "https://localhost:8080/",
          "height": 783
        },
        "id": "5tNSPOPvqPVK",
        "outputId": "34074b18-e822-4f4d-9b4b-904e44bc86c0"
      },
      "source": [
        "# visualização gráfica da correlação das variáveis - dados de treino\n",
        "plt.figure(figsize=(18, 9))\n",
        "plt.title('Correlação das vars numéricas contínuas - conjunto de dados de treino\\n', \n",
        "          {'fontsize': 18,'fontweight': 'bold'})\n",
        "sns.heatmap(train_data.isnull());"
      ],
      "execution_count": null,
      "outputs": [
        {
          "output_type": "display_data",
          "data": {
            "image/png": "[encoded data removed]",
            "text/plain": [
              "<Figure size 1296x648 with 2 Axes>"
            ]
          },
          "metadata": {
            "needs_background": "light"
          }
        }
      ]
    },
    {
      "cell_type": "code",
      "metadata": {
        "colab": {
          "base_uri": "https://localhost:8080/",
          "height": 783
        },
        "id": "VFtu27us06bd",
        "outputId": "5168b38f-9a8f-4286-9a0a-5b86222557dd"
      },
      "source": [
        "# visualização gráfica da correlação das variáveis - dados de teste\n",
        "plt.figure(figsize=(18, 9))\n",
        "plt.title('Correlação das vars numéricas contínuas - conjunto de dados de teste\\n', \n",
        "          {'fontsize': 18,'fontweight': 'bold'})\n",
        "sns.heatmap(test_data.isnull());"
      ],
      "execution_count": null,
      "outputs": [
        {
          "output_type": "display_data",
          "data": {
            "image/png": "[encoded data removed]",
            "text/plain": [
              "<Figure size 1296x648 with 2 Axes>"
            ]
          },
          "metadata": {
            "needs_background": "light"
          }
        }
      ]
    },
    {
      "cell_type": "code",
      "metadata": {
        "colab": {
          "base_uri": "https://localhost:8080/",
          "height": 1000
        },
        "id": "KBbIiul5RoQ8",
        "outputId": "33f342c4-4497-4986-d9a5-7270f3e4cc59"
      },
      "source": [
        "# visualizando a presença de outliers\n",
        "fig, axes = plt.subplots(3, 1, tight_layout=False, figsize=(22, 15))\n",
        "fig.suptitle('Outliers Analysis\\n', fontsize=22)\n",
        "sns.boxplot(ax=axes[0], data=train_data['util_linhas_inseguras'], orient='h')\n",
        "sns.boxplot(ax=axes[1], data=train_data['razao_debito'], orient='h')\n",
        "sns.boxplot(ax=axes[2], data=train_data['salario_mensal'], orient='h')\n",
        "axes[0].set_xlabel('Linhas de Crédito Não Seguradas', fontsize='xx-large')\n",
        "axes[1].set_xlabel('Razão Dívidas/Patrimônio', fontsize='xx-large')\n",
        "axes[2].set_xlabel('Salário Mensal', fontsize='xx-large')\n",
        "plt.show()\n",
        "\n",
        "Q1 = train_data[['util_linhas_inseguras','razao_debito','salario_mensal']].quantile(0.25)\n",
        "Q3 = train_data[['util_linhas_inseguras','razao_debito','salario_mensal']].quantile(0.75)\n",
        "IQR = Q3 - Q1\n",
        "\n",
        "n_outliers = ((train_data[['util_linhas_inseguras','razao_debito','salario_mensal']] < (Q1 - 1.5 * IQR)) | (\n",
        "               train_data[['util_linhas_inseguras','razao_debito','salario_mensal']] > (Q3 + 1.5 * IQR))).sum()\n",
        "percent_outliers = n_outliers/train_data[['util_linhas_inseguras','razao_debito','salario_mensal']].count()*100\n",
        "pd.concat([n_outliers, percent_outliers], axis=1, keys=['Count', '%']).T.round(1)"
      ],
      "execution_count": null,
      "outputs": [
        {
          "output_type": "display_data",
          "data": {
            "image/png": "[encoded data removed]",
            "text/plain": [
              "<Figure size 1584x1080 with 3 Axes>"
            ]
          },
          "metadata": {
            "needs_background": "light"
          }
        },
        {
          "output_type": "execute_result",
          "data": {
            "text/html": [
              "<div>\n",
              "<style scoped>\n",
              "    .dataframe tbody tr th:only-of-type {\n",
              "        vertical-align: middle;\n",
              "    }\n",
              "\n",
              "    .dataframe tbody tr th {\n",
              "        vertical-align: top;\n",
              "    }\n",
              "\n",
              "    .dataframe thead th {\n",
              "        text-align: right;\n",
              "    }\n",
              "</style>\n",
              "<table border=\"1\" class=\"dataframe\">\n",
              "  <thead>\n",
              "    <tr style=\"text-align: right;\">\n",
              "      <th></th>\n",
              "      <th>util_linhas_inseguras</th>\n",
              "      <th>razao_debito</th>\n",
              "      <th>salario_mensal</th>\n",
              "    </tr>\n",
              "  </thead>\n",
              "  <tbody>\n",
              "    <tr>\n",
              "      <th>Count</th>\n",
              "      <td>556.0</td>\n",
              "      <td>22902.0</td>\n",
              "      <td>3637.0</td>\n",
              "    </tr>\n",
              "    <tr>\n",
              "      <th>%</th>\n",
              "      <td>0.5</td>\n",
              "      <td>20.8</td>\n",
              "      <td>4.1</td>\n",
              "    </tr>\n",
              "  </tbody>\n",
              "</table>\n",
              "</div>"
            ],
            "text/plain": [
              "       util_linhas_inseguras  razao_debito  salario_mensal\n",
              "Count                  556.0       22902.0          3637.0\n",
              "%                        0.5          20.8             4.1"
            ]
          },
          "metadata": {},
          "execution_count": 22
        }
      ]
    },
    {
      "cell_type": "code",
      "metadata": {
        "colab": {
          "base_uri": "https://localhost:8080/",
          "height": 464
        },
        "id": "5Dgbml4Np-Zq",
        "outputId": "f6b93ea7-e0c0-496a-b837-3da492259145"
      },
      "source": [
        "# visualizando a presença de \"outliers\" no atributo idade do conjunto de dados de treino\n",
        "plt.figure(figsize=(22, 7))\n",
        "plt.title('Outliers do atributo \"idade\" - conjunto de dados de treino\\n', \n",
        "          {'fontsize': 16,'fontweight': 'bold'})\n",
        "sns.boxplot(data = train_data['idade'], orient = 'h', palette = 'Set2');"
      ],
      "execution_count": null,
      "outputs": [
        {
          "output_type": "display_data",
          "data": {
            "image/png": "[encoded data removed]",
            "text/plain": [
              "<Figure size 1584x504 with 1 Axes>"
            ]
          },
          "metadata": {
            "needs_background": "light"
          }
        }
      ]
    },
    {
      "cell_type": "code",
      "metadata": {
        "colab": {
          "base_uri": "https://localhost:8080/",
          "height": 513
        },
        "id": "kUfWFNl9gUa3",
        "outputId": "9c72f1c5-a32e-4deb-fcc2-169427f0ccd5"
      },
      "source": [
        "plt.figure(figsize = (10, 8))\n",
        "\n",
        "# empréstimos que foram pagos dentro do prazo\n",
        "sns.kdeplot(train_data.loc[train_data['inadimplente'] == 0, 'idade'], label = 'target == 0')\n",
        "\n",
        "# empréstimos que não foram pagos a tempo\n",
        "sns.kdeplot(train_data.loc[train_data['inadimplente'] == 1, 'idade'], label = 'target == 1')\n",
        "\n",
        "plt.xlabel('Age (years)'); plt.ylabel('Density'); plt.title('Distribution of Ages')\n",
        "plt.legend();"
      ],
      "execution_count": null,
      "outputs": [
        {
          "output_type": "display_data",
          "data": {
            "image/png": "[encoded data removed]",
            "text/plain": [
              "<Figure size 720x576 with 1 Axes>"
            ]
          },
          "metadata": {
            "needs_background": "light"
          }
        }
      ]
    },
    {
      "cell_type": "code",
      "metadata": {
        "colab": {
          "base_uri": "https://localhost:8080/",
          "height": 552
        },
        "id": "8jxXKr7TRoN0",
        "outputId": "977e52af-17b3-4841-9b01-29093bc5de02"
      },
      "source": [
        "# visualizando a distribuição dos atributos em relação a variável alvo - inadimplentes\n",
        "fig, axes = plt.subplots(2, 5, figsize=(22, 9), tight_layout=False)\n",
        "\n",
        "for i in range(2):\n",
        "    for j in range(5):\n",
        "        sns.scatterplot(ax=axes[i,j],\n",
        "                        data=train_data,x=train_data.iloc[:,(5*i+j+1)].sample(500), \n",
        "                        y=train_data.iloc[:,0])"
      ],
      "execution_count": null,
      "outputs": [
        {
          "output_type": "display_data",
          "data": {
            "image/png": "[encoded data removed]",
            "text/plain": [
              "<Figure size 1584x648 with 10 Axes>"
            ]
          },
          "metadata": {
            "needs_background": "light"
          }
        }
      ]
    },
    {
      "cell_type": "code",
      "metadata": {
        "colab": {
          "base_uri": "https://localhost:8080/",
          "height": 837
        },
        "id": "9TObXz77RoKs",
        "outputId": "1fcfdba5-22f4-4be5-9bb5-9b5aba4a7014"
      },
      "source": [
        "# correlação das variáveis numéricas  do conjunto de dados de treino\n",
        "corr_train = train_data.corr()\n",
        "\n",
        "plt.figure(figsize = (14, 10))\n",
        "sns.heatmap(corr_train, cmap = 'coolwarm', vmin = -0.25, \n",
        "            annot = True, vmax = 0.6)\n",
        "plt.title('Correlação das vars numéricas contínuas - conjunto de dados de treino\\n', \n",
        "          {'fontsize': 18,'fontweight': 'bold'});"
      ],
      "execution_count": null,
      "outputs": [
        {
          "output_type": "display_data",
          "data": {
            "image/png": "[encoded data removed]",
            "text/plain": [
              "<Figure size 1008x720 with 2 Axes>"
            ]
          },
          "metadata": {
            "needs_background": "light"
          }
        }
      ]
    },
    {
      "cell_type": "code",
      "metadata": {
        "colab": {
          "base_uri": "https://localhost:8080/",
          "height": 375
        },
        "id": "4C6XL9P6qZSz",
        "outputId": "f58650c2-3175-4a84-de41-eb1faaff1aa7"
      },
      "source": [
        "# gráfico inadimplente Vs idade\n",
        "plt.figure(figsize=(15, 5))\n",
        "plt.scatter(train_data['inadimplente'], train_data['idade'])\n",
        "plt.xlabel('inadimplente')\n",
        "plt.ylabel('idade')\n",
        "plt.title('inadimplente Vs idade \\n',\n",
        "           {'fontsize': 18,'fontweight': 'bold'});"
      ],
      "execution_count": null,
      "outputs": [
        {
          "output_type": "display_data",
          "data": {
            "image/png": "[encoded data removed]",
            "text/plain": [
              "<Figure size 1080x360 with 1 Axes>"
            ]
          },
          "metadata": {
            "needs_background": "light"
          }
        }
      ]
    },
    {
      "cell_type": "code",
      "metadata": {
        "colab": {
          "base_uri": "https://localhost:8080/",
          "height": 513
        },
        "id": "3bL1OzA7tQkj",
        "outputId": "6b424cc9-b08c-4821-92a7-4447231d8c04"
      },
      "source": [
        "# plotando gráficos - boxplot e histograma da distribuição dos dados da variável \"idade\"\n",
        "mean = train_data['idade'].mean()\n",
        "median = train_data['idade'].median()\n",
        "mode = train_data['idade'].mode()[0]\n",
        "\n",
        "fig, (ax_box, ax_hist) = plt.subplots(2, sharex=True, \n",
        "                                      figsize = (16, 7))\n",
        "\n",
        "sns.boxplot(data=train_data, x='idade', ax=ax_box)\n",
        "ax_box.axvline(mean, color='r', linestyle='--', linewidth=4)\n",
        "ax_box.axvline(median, color='g', linestyle='-', linewidth=4)\n",
        "ax_box.axvline(mode, color='y', linestyle='-', linewidth=4)\n",
        "ax_box.set(xlabel='')\n",
        "ax_box.set_title('Distribuição dos dados da variável \"idade\"\\n',\n",
        "                 {'fontsize': 18,'fontweight': 'bold'})\n",
        "\n",
        "sns.histplot(data=train_data, x='idade', ax=ax_hist, kde=True)\n",
        "ax_hist.axvline(mean, color='red', linestyle='--', label='Mean', linewidth=4)\n",
        "ax_hist.axvline(median, color='green', linestyle='-', label='Median', linewidth=4)\n",
        "ax_hist.axvline(mode, color='yellow', linestyle=':', label='Mode', linewidth=4)\n",
        "\n",
        "ax_hist.legend()\n",
        "plt.tight_layout();"
      ],
      "execution_count": null,
      "outputs": [
        {
          "output_type": "display_data",
          "data": {
            "image/png": "[encoded data removed]",
            "text/plain": [
              "<Figure size 1152x504 with 2 Axes>"
            ]
          },
          "metadata": {
            "needs_background": "light"
          }
        }
      ]
    },
    {
      "cell_type": "code",
      "metadata": {
        "id": "tJCbiqCtRoHg"
      },
      "source": [
        "# instanciando as variáveis explicativas (X) e a resposta (y)\n",
        "X = train_data.iloc[:, 1:]\n",
        "y = train_data.iloc[:, 0]\n",
        "\n",
        "# particionando os dados em treino e teste\n",
        "X_train, X_test, y_train, y_test = train_test_split(X, y, \n",
        "                                                    random_state=1, \n",
        "                                                    test_size=0.2)"
      ],
      "execution_count": null,
      "outputs": []
    },
    {
      "cell_type": "code",
      "metadata": {
        "colab": {
          "base_uri": "https://localhost:8080/"
        },
        "id": "5H1SlGHFRoEZ",
        "outputId": "a9b08ac6-edf6-496d-8c68-24cee0b9d3c7"
      },
      "source": [
        "# aplicando o primeiro modelo\n",
        "model = xgb.XGBClassifier(use_label_encoder=False, eval_metric= 'aucpr', \n",
        "                          base_score=(1-1/proportion), \n",
        "                          scale_pos_weight=proportion)\n",
        "\n",
        "model.fit(X_train, y_train)\n",
        "\n",
        "predicted = model.predict(X_test)\n",
        "probs = model.predict_proba(X_test)\n",
        "\n",
        "# expected = y_test\n",
        "\n",
        "print('Extreme Gradient Boosting Model Metrics:\\n')\n",
        "print(metrics.classification_report(y_test, predicted))\n",
        "print('\\n Confusion Matrix:\\n [[TP       FN]\\n [FP       TN]]\\n', metrics.confusion_matrix(y_test, predicted))\n",
        "print('\\nProbability:\\n', probs[:,1])"
      ],
      "execution_count": null,
      "outputs": [
        {
          "output_type": "stream",
          "name": "stdout",
          "text": [
            "Extreme Gradient Boosting Model Metrics:\n",
            "\n",
            "              precision    recall  f1-score   support\n",
            "\n",
            "           0       0.98      0.80      0.88     20554\n",
            "           1       0.21      0.76      0.33      1446\n",
            "\n",
            "    accuracy                           0.80     22000\n",
            "   macro avg       0.60      0.78      0.61     22000\n",
            "weighted avg       0.93      0.80      0.85     22000\n",
            "\n",
            "\n",
            " Confusion Matrix:\n",
            " [[TP       FN]\n",
            " [FP       TN]]\n",
            " [[16498  4056]\n",
            " [  347  1099]]\n",
            "\n",
            "Probability:\n",
            " [0.14654893 0.11283872 0.32241    ... 0.8270771  0.2876551  0.1536048 ]\n"
          ]
        }
      ]
    },
    {
      "cell_type": "code",
      "metadata": {
        "colab": {
          "base_uri": "https://localhost:8080/"
        },
        "id": "mjyEVS8TRoBX",
        "outputId": "3ec85ede-2adb-44c1-9c54-0551410645a7"
      },
      "source": [
        "# aplicando o segundo modelo\n",
        "model = xgb.XGBClassifier(eval_metric= 'aucpr', use_label_encoder=False,\n",
        "                          base_score=(1-1/proportion), \n",
        "                          scale_pos_weight=proportion, \n",
        "                          eta=0.02, alpha=100)\n",
        "\n",
        "model.fit(X_train, y_train)\n",
        "\n",
        "predicted = model.predict(X_test)\n",
        "probs = model.predict_proba(X_test)\n",
        "\n",
        "# expected = y_test\n",
        "\n",
        "print(\"Extreme Gradient Boosting Model Metrics:\\n\")\n",
        "print(metrics.classification_report(y_test, predicted))\n",
        "print(\"\\n Confusion Matrix:\\n [[TP       FN]\\n [FP       TN]]\\n\", metrics.confusion_matrix(y_test, predicted))\n",
        "print(\"\\nProbability:\\n\", probs[:,1])"
      ],
      "execution_count": null,
      "outputs": [
        {
          "output_type": "stream",
          "name": "stdout",
          "text": [
            "Extreme Gradient Boosting Model Metrics:\n",
            "\n",
            "              precision    recall  f1-score   support\n",
            "\n",
            "           0       0.98      0.80      0.88     20554\n",
            "           1       0.21      0.76      0.33      1446\n",
            "\n",
            "    accuracy                           0.80     22000\n",
            "   macro avg       0.60      0.78      0.61     22000\n",
            "weighted avg       0.93      0.80      0.85     22000\n",
            "\n",
            "\n",
            " Confusion Matrix:\n",
            " [[TP       FN]\n",
            " [FP       TN]]\n",
            " [[16498  4056]\n",
            " [  347  1099]]\n",
            "\n",
            "Probability:\n",
            " [0.14654893 0.11283872 0.32241    ... 0.8270771  0.2876551  0.1536048 ]\n"
          ]
        }
      ]
    },
    {
      "cell_type": "code",
      "metadata": {
        "id": "ZpnUAxzlRn-W"
      },
      "source": [
        "# realizando as predições com os dados de teste\n",
        "predicted = model.predict(test_data)\n",
        "probs = model.predict_proba(test_data)[:,1]*100\n",
        "\n",
        "# salvando as predições e as probabilidades \n",
        "output = {'inadimplente': predicted, 'probabilidade %': probs}\n",
        "output = pd.DataFrame(data=output)\n",
        "output.to_csv('output.csv',index=False)\n",
        "\n",
        "# criando um arquivo dataframe\n",
        "predicted = pd.DataFrame({'inadimplente': predicted})\n",
        "\n",
        "# salvando o arquivo para submissão\n",
        "Submission_File = predicted.join(test_data)\n",
        "Submission_File.to_csv('Submission_File.csv',index=False)"
      ],
      "execution_count": null,
      "outputs": []
    },
    {
      "cell_type": "code",
      "metadata": {
        "colab": {
          "base_uri": "https://localhost:8080/",
          "height": 424
        },
        "id": "Fz_QaYqIRn8p",
        "outputId": "e61c5f93-c0a9-4464-f04e-6b9bc2e3349d"
      },
      "source": [
        "# visualizando o arquivo com as probabilidades de cada instância real\n",
        "output"
      ],
      "execution_count": null,
      "outputs": [
        {
          "output_type": "execute_result",
          "data": {
            "text/html": [
              "<div>\n",
              "<style scoped>\n",
              "    .dataframe tbody tr th:only-of-type {\n",
              "        vertical-align: middle;\n",
              "    }\n",
              "\n",
              "    .dataframe tbody tr th {\n",
              "        vertical-align: top;\n",
              "    }\n",
              "\n",
              "    .dataframe thead th {\n",
              "        text-align: right;\n",
              "    }\n",
              "</style>\n",
              "<table border=\"1\" class=\"dataframe\">\n",
              "  <thead>\n",
              "    <tr style=\"text-align: right;\">\n",
              "      <th></th>\n",
              "      <th>inadimplente</th>\n",
              "      <th>probabilidade %</th>\n",
              "    </tr>\n",
              "  </thead>\n",
              "  <tbody>\n",
              "    <tr>\n",
              "      <th>0</th>\n",
              "      <td>0</td>\n",
              "      <td>6.583509</td>\n",
              "    </tr>\n",
              "    <tr>\n",
              "      <th>1</th>\n",
              "      <td>0</td>\n",
              "      <td>39.690105</td>\n",
              "    </tr>\n",
              "    <tr>\n",
              "      <th>2</th>\n",
              "      <td>0</td>\n",
              "      <td>13.749557</td>\n",
              "    </tr>\n",
              "    <tr>\n",
              "      <th>3</th>\n",
              "      <td>1</td>\n",
              "      <td>55.609894</td>\n",
              "    </tr>\n",
              "    <tr>\n",
              "      <th>4</th>\n",
              "      <td>0</td>\n",
              "      <td>18.113165</td>\n",
              "    </tr>\n",
              "    <tr>\n",
              "      <th>...</th>\n",
              "      <td>...</td>\n",
              "      <td>...</td>\n",
              "    </tr>\n",
              "    <tr>\n",
              "      <th>39995</th>\n",
              "      <td>1</td>\n",
              "      <td>73.997513</td>\n",
              "    </tr>\n",
              "    <tr>\n",
              "      <th>39996</th>\n",
              "      <td>0</td>\n",
              "      <td>8.116012</td>\n",
              "    </tr>\n",
              "    <tr>\n",
              "      <th>39997</th>\n",
              "      <td>1</td>\n",
              "      <td>53.883671</td>\n",
              "    </tr>\n",
              "    <tr>\n",
              "      <th>39998</th>\n",
              "      <td>1</td>\n",
              "      <td>71.550026</td>\n",
              "    </tr>\n",
              "    <tr>\n",
              "      <th>39999</th>\n",
              "      <td>1</td>\n",
              "      <td>88.429932</td>\n",
              "    </tr>\n",
              "  </tbody>\n",
              "</table>\n",
              "<p>40000 rows × 2 columns</p>\n",
              "</div>"
            ],
            "text/plain": [
              "       inadimplente  probabilidade %\n",
              "0                 0         6.583509\n",
              "1                 0        39.690105\n",
              "2                 0        13.749557\n",
              "3                 1        55.609894\n",
              "4                 0        18.113165\n",
              "...             ...              ...\n",
              "39995             1        73.997513\n",
              "39996             0         8.116012\n",
              "39997             1        53.883671\n",
              "39998             1        71.550026\n",
              "39999             1        88.429932\n",
              "\n",
              "[40000 rows x 2 columns]"
            ]
          },
          "metadata": {},
          "execution_count": 33
        }
      ]
    },
    {
      "cell_type": "code",
      "metadata": {
        "colab": {
          "base_uri": "https://localhost:8080/",
          "height": 444
        },
        "id": "t6jD4EV7EYei",
        "outputId": "29a34ae2-b1aa-42cc-f94d-1d5a369adad3"
      },
      "source": [
        "# concatenando as bases de dados\n",
        "df = train_data.append(test_data, ignore_index=True)\n",
        "\n",
        "df"
      ],
      "execution_count": null,
      "outputs": [
        {
          "output_type": "execute_result",
          "data": {
            "text/html": [
              "<div>\n",
              "<style scoped>\n",
              "    .dataframe tbody tr th:only-of-type {\n",
              "        vertical-align: middle;\n",
              "    }\n",
              "\n",
              "    .dataframe tbody tr th {\n",
              "        vertical-align: top;\n",
              "    }\n",
              "\n",
              "    .dataframe thead th {\n",
              "        text-align: right;\n",
              "    }\n",
              "</style>\n",
              "<table border=\"1\" class=\"dataframe\">\n",
              "  <thead>\n",
              "    <tr style=\"text-align: right;\">\n",
              "      <th></th>\n",
              "      <th>inadimplente</th>\n",
              "      <th>util_linhas_inseguras</th>\n",
              "      <th>idade</th>\n",
              "      <th>vezes_passou_de_30_59_dias</th>\n",
              "      <th>razao_debito</th>\n",
              "      <th>salario_mensal</th>\n",
              "      <th>numero_linhas_crdto_aberto</th>\n",
              "      <th>numero_vezes_passou_90_dias</th>\n",
              "      <th>numero_emprestimos_imobiliarios</th>\n",
              "      <th>numero_de_vezes_que_passou_60_89_dias</th>\n",
              "      <th>numero_de_dependentes</th>\n",
              "    </tr>\n",
              "  </thead>\n",
              "  <tbody>\n",
              "    <tr>\n",
              "      <th>0</th>\n",
              "      <td>1.0</td>\n",
              "      <td>0.766127</td>\n",
              "      <td>45</td>\n",
              "      <td>2</td>\n",
              "      <td>0.802982</td>\n",
              "      <td>9120.0</td>\n",
              "      <td>13</td>\n",
              "      <td>0</td>\n",
              "      <td>6</td>\n",
              "      <td>0</td>\n",
              "      <td>2.0</td>\n",
              "    </tr>\n",
              "    <tr>\n",
              "      <th>1</th>\n",
              "      <td>0.0</td>\n",
              "      <td>0.957151</td>\n",
              "      <td>40</td>\n",
              "      <td>0</td>\n",
              "      <td>0.121876</td>\n",
              "      <td>2600.0</td>\n",
              "      <td>4</td>\n",
              "      <td>0</td>\n",
              "      <td>0</td>\n",
              "      <td>0</td>\n",
              "      <td>1.0</td>\n",
              "    </tr>\n",
              "    <tr>\n",
              "      <th>2</th>\n",
              "      <td>0.0</td>\n",
              "      <td>0.658180</td>\n",
              "      <td>38</td>\n",
              "      <td>1</td>\n",
              "      <td>0.085113</td>\n",
              "      <td>3042.0</td>\n",
              "      <td>2</td>\n",
              "      <td>1</td>\n",
              "      <td>0</td>\n",
              "      <td>0</td>\n",
              "      <td>0.0</td>\n",
              "    </tr>\n",
              "    <tr>\n",
              "      <th>3</th>\n",
              "      <td>0.0</td>\n",
              "      <td>0.233810</td>\n",
              "      <td>30</td>\n",
              "      <td>0</td>\n",
              "      <td>0.036050</td>\n",
              "      <td>3300.0</td>\n",
              "      <td>5</td>\n",
              "      <td>0</td>\n",
              "      <td>0</td>\n",
              "      <td>0</td>\n",
              "      <td>0.0</td>\n",
              "    </tr>\n",
              "    <tr>\n",
              "      <th>4</th>\n",
              "      <td>0.0</td>\n",
              "      <td>0.907239</td>\n",
              "      <td>49</td>\n",
              "      <td>1</td>\n",
              "      <td>0.024926</td>\n",
              "      <td>63588.0</td>\n",
              "      <td>7</td>\n",
              "      <td>0</td>\n",
              "      <td>1</td>\n",
              "      <td>0</td>\n",
              "      <td>0.0</td>\n",
              "    </tr>\n",
              "    <tr>\n",
              "      <th>...</th>\n",
              "      <td>...</td>\n",
              "      <td>...</td>\n",
              "      <td>...</td>\n",
              "      <td>...</td>\n",
              "      <td>...</td>\n",
              "      <td>...</td>\n",
              "      <td>...</td>\n",
              "      <td>...</td>\n",
              "      <td>...</td>\n",
              "      <td>...</td>\n",
              "      <td>...</td>\n",
              "    </tr>\n",
              "    <tr>\n",
              "      <th>149995</th>\n",
              "      <td>NaN</td>\n",
              "      <td>0.000000</td>\n",
              "      <td>68</td>\n",
              "      <td>1</td>\n",
              "      <td>0.062858</td>\n",
              "      <td>10833.0</td>\n",
              "      <td>9</td>\n",
              "      <td>1</td>\n",
              "      <td>0</td>\n",
              "      <td>0</td>\n",
              "      <td>0.0</td>\n",
              "    </tr>\n",
              "    <tr>\n",
              "      <th>149996</th>\n",
              "      <td>NaN</td>\n",
              "      <td>0.061117</td>\n",
              "      <td>84</td>\n",
              "      <td>0</td>\n",
              "      <td>0.013598</td>\n",
              "      <td>8456.0</td>\n",
              "      <td>7</td>\n",
              "      <td>0</td>\n",
              "      <td>0</td>\n",
              "      <td>0</td>\n",
              "      <td>0.0</td>\n",
              "    </tr>\n",
              "    <tr>\n",
              "      <th>149997</th>\n",
              "      <td>NaN</td>\n",
              "      <td>0.817745</td>\n",
              "      <td>70</td>\n",
              "      <td>0</td>\n",
              "      <td>0.663056</td>\n",
              "      <td>6000.0</td>\n",
              "      <td>17</td>\n",
              "      <td>0</td>\n",
              "      <td>2</td>\n",
              "      <td>0</td>\n",
              "      <td>0.0</td>\n",
              "    </tr>\n",
              "    <tr>\n",
              "      <th>149998</th>\n",
              "      <td>NaN</td>\n",
              "      <td>0.106139</td>\n",
              "      <td>64</td>\n",
              "      <td>2</td>\n",
              "      <td>0.865438</td>\n",
              "      <td>5045.0</td>\n",
              "      <td>12</td>\n",
              "      <td>0</td>\n",
              "      <td>4</td>\n",
              "      <td>0</td>\n",
              "      <td>0.0</td>\n",
              "    </tr>\n",
              "    <tr>\n",
              "      <th>149999</th>\n",
              "      <td>NaN</td>\n",
              "      <td>1.000000</td>\n",
              "      <td>28</td>\n",
              "      <td>0</td>\n",
              "      <td>0.002285</td>\n",
              "      <td>3500.0</td>\n",
              "      <td>0</td>\n",
              "      <td>1</td>\n",
              "      <td>0</td>\n",
              "      <td>0</td>\n",
              "      <td>0.0</td>\n",
              "    </tr>\n",
              "  </tbody>\n",
              "</table>\n",
              "<p>150000 rows × 11 columns</p>\n",
              "</div>"
            ],
            "text/plain": [
              "        inadimplente  ...  numero_de_dependentes\n",
              "0                1.0  ...                    2.0\n",
              "1                0.0  ...                    1.0\n",
              "2                0.0  ...                    0.0\n",
              "3                0.0  ...                    0.0\n",
              "4                0.0  ...                    0.0\n",
              "...              ...  ...                    ...\n",
              "149995           NaN  ...                    0.0\n",
              "149996           NaN  ...                    0.0\n",
              "149997           NaN  ...                    0.0\n",
              "149998           NaN  ...                    0.0\n",
              "149999           NaN  ...                    0.0\n",
              "\n",
              "[150000 rows x 11 columns]"
            ]
          },
          "metadata": {},
          "execution_count": 34
        }
      ]
    },
    {
      "cell_type": "code",
      "metadata": {
        "colab": {
          "base_uri": "https://localhost:8080/"
        },
        "id": "r1X0jL7KEi70",
        "outputId": "628ef424-41fa-4b93-9a23-ef528eb5f7b6"
      },
      "source": [
        "# contabiblizando valores nulos e/ou faltantes do conjunto de dados\n",
        "df.isnull().sum()"
      ],
      "execution_count": null,
      "outputs": [
        {
          "output_type": "execute_result",
          "data": {
            "text/plain": [
              "inadimplente                             40000\n",
              "util_linhas_inseguras                        0\n",
              "idade                                        0\n",
              "vezes_passou_de_30_59_dias                   0\n",
              "razao_debito                                 0\n",
              "salario_mensal                           29731\n",
              "numero_linhas_crdto_aberto                   0\n",
              "numero_vezes_passou_90_dias                  0\n",
              "numero_emprestimos_imobiliarios              0\n",
              "numero_de_vezes_que_passou_60_89_dias        0\n",
              "numero_de_dependentes                     3924\n",
              "dtype: int64"
            ]
          },
          "metadata": {},
          "execution_count": 35
        }
      ]
    },
    {
      "cell_type": "code",
      "metadata": {
        "colab": {
          "base_uri": "https://localhost:8080/",
          "height": 112
        },
        "id": "ilk9CJOTEi4-",
        "outputId": "d7916638-5361-4270-bedd-1b9e15032efb"
      },
      "source": [
        "df[['salario_mensal', 'numero_de_dependentes']].describe().T"
      ],
      "execution_count": null,
      "outputs": [
        {
          "output_type": "execute_result",
          "data": {
            "text/html": [
              "<div>\n",
              "<style scoped>\n",
              "    .dataframe tbody tr th:only-of-type {\n",
              "        vertical-align: middle;\n",
              "    }\n",
              "\n",
              "    .dataframe tbody tr th {\n",
              "        vertical-align: top;\n",
              "    }\n",
              "\n",
              "    .dataframe thead th {\n",
              "        text-align: right;\n",
              "    }\n",
              "</style>\n",
              "<table border=\"1\" class=\"dataframe\">\n",
              "  <thead>\n",
              "    <tr style=\"text-align: right;\">\n",
              "      <th></th>\n",
              "      <th>count</th>\n",
              "      <th>mean</th>\n",
              "      <th>std</th>\n",
              "      <th>min</th>\n",
              "      <th>25%</th>\n",
              "      <th>50%</th>\n",
              "      <th>75%</th>\n",
              "      <th>max</th>\n",
              "    </tr>\n",
              "  </thead>\n",
              "  <tbody>\n",
              "    <tr>\n",
              "      <th>salario_mensal</th>\n",
              "      <td>120269.0</td>\n",
              "      <td>6670.221237</td>\n",
              "      <td>14384.674215</td>\n",
              "      <td>0.0</td>\n",
              "      <td>3400.0</td>\n",
              "      <td>5400.0</td>\n",
              "      <td>8249.0</td>\n",
              "      <td>3008750.0</td>\n",
              "    </tr>\n",
              "    <tr>\n",
              "      <th>numero_de_dependentes</th>\n",
              "      <td>146076.0</td>\n",
              "      <td>0.757222</td>\n",
              "      <td>1.115086</td>\n",
              "      <td>0.0</td>\n",
              "      <td>0.0</td>\n",
              "      <td>0.0</td>\n",
              "      <td>1.0</td>\n",
              "      <td>20.0</td>\n",
              "    </tr>\n",
              "  </tbody>\n",
              "</table>\n",
              "</div>"
            ],
            "text/plain": [
              "                          count         mean  ...     75%        max\n",
              "salario_mensal         120269.0  6670.221237  ...  8249.0  3008750.0\n",
              "numero_de_dependentes  146076.0     0.757222  ...     1.0       20.0\n",
              "\n",
              "[2 rows x 8 columns]"
            ]
          },
          "metadata": {},
          "execution_count": 36
        }
      ]
    },
    {
      "cell_type": "code",
      "metadata": {
        "colab": {
          "base_uri": "https://localhost:8080/"
        },
        "id": "zF-hZZfzEir0",
        "outputId": "9629c4b9-3f08-4761-caf3-a88f50ebcf99"
      },
      "source": [
        "# contabilizando a presença de dados duplicados\n",
        "df.duplicated().sum()"
      ],
      "execution_count": null,
      "outputs": [
        {
          "output_type": "execute_result",
          "data": {
            "text/plain": [
              "434"
            ]
          },
          "metadata": {},
          "execution_count": 37
        }
      ]
    },
    {
      "cell_type": "code",
      "metadata": {
        "id": "ejMG1faoEipD"
      },
      "source": [
        "# removendo dados duplicados\n",
        "df.drop_duplicates(keep=False, inplace=True)"
      ],
      "execution_count": null,
      "outputs": []
    },
    {
      "cell_type": "code",
      "metadata": {
        "colab": {
          "base_uri": "https://localhost:8080/"
        },
        "id": "Hc4VChp2EimO",
        "outputId": "05f56d73-2e56-4706-e5dd-fbc1a26714f2"
      },
      "source": [
        "# contabilizando a presença de dados duplicados apoś o tratamento\n",
        "df.duplicated().sum()"
      ],
      "execution_count": null,
      "outputs": [
        {
          "output_type": "execute_result",
          "data": {
            "text/plain": [
              "0"
            ]
          },
          "metadata": {},
          "execution_count": 39
        }
      ]
    },
    {
      "cell_type": "code",
      "metadata": {
        "colab": {
          "base_uri": "https://localhost:8080/",
          "height": 112
        },
        "id": "WOTb70SSEijX",
        "outputId": "187acfb4-b13b-4fe2-8781-d134ad34a655"
      },
      "source": [
        "df[['salario_mensal', 'numero_de_dependentes']].describe().T"
      ],
      "execution_count": null,
      "outputs": [
        {
          "output_type": "execute_result",
          "data": {
            "text/html": [
              "<div>\n",
              "<style scoped>\n",
              "    .dataframe tbody tr th:only-of-type {\n",
              "        vertical-align: middle;\n",
              "    }\n",
              "\n",
              "    .dataframe tbody tr th {\n",
              "        vertical-align: top;\n",
              "    }\n",
              "\n",
              "    .dataframe thead th {\n",
              "        text-align: right;\n",
              "    }\n",
              "</style>\n",
              "<table border=\"1\" class=\"dataframe\">\n",
              "  <thead>\n",
              "    <tr style=\"text-align: right;\">\n",
              "      <th></th>\n",
              "      <th>count</th>\n",
              "      <th>mean</th>\n",
              "      <th>std</th>\n",
              "      <th>min</th>\n",
              "      <th>25%</th>\n",
              "      <th>50%</th>\n",
              "      <th>75%</th>\n",
              "      <th>max</th>\n",
              "    </tr>\n",
              "  </thead>\n",
              "  <tbody>\n",
              "    <tr>\n",
              "      <th>salario_mensal</th>\n",
              "      <td>120150.0</td>\n",
              "      <td>6676.083154</td>\n",
              "      <td>14390.571719</td>\n",
              "      <td>0.0</td>\n",
              "      <td>3400.0</td>\n",
              "      <td>5400.0</td>\n",
              "      <td>8250.0</td>\n",
              "      <td>3008750.0</td>\n",
              "    </tr>\n",
              "    <tr>\n",
              "      <th>numero_de_dependentes</th>\n",
              "      <td>145473.0</td>\n",
              "      <td>0.760320</td>\n",
              "      <td>1.116324</td>\n",
              "      <td>0.0</td>\n",
              "      <td>0.0</td>\n",
              "      <td>0.0</td>\n",
              "      <td>1.0</td>\n",
              "      <td>20.0</td>\n",
              "    </tr>\n",
              "  </tbody>\n",
              "</table>\n",
              "</div>"
            ],
            "text/plain": [
              "                          count         mean  ...     75%        max\n",
              "salario_mensal         120150.0  6676.083154  ...  8250.0  3008750.0\n",
              "numero_de_dependentes  145473.0     0.760320  ...     1.0       20.0\n",
              "\n",
              "[2 rows x 8 columns]"
            ]
          },
          "metadata": {},
          "execution_count": 40
        }
      ]
    },
    {
      "cell_type": "code",
      "metadata": {
        "colab": {
          "base_uri": "https://localhost:8080/"
        },
        "id": "C8UUzhBjGRLv",
        "outputId": "169f95a8-9760-4997-b98b-f1e43130b8dc"
      },
      "source": [
        "df[['salario_mensal', 'numero_de_dependentes']].dtypes"
      ],
      "execution_count": null,
      "outputs": [
        {
          "output_type": "execute_result",
          "data": {
            "text/plain": [
              "salario_mensal           float64\n",
              "numero_de_dependentes    float64\n",
              "dtype: object"
            ]
          },
          "metadata": {},
          "execution_count": 41
        }
      ]
    },
    {
      "cell_type": "code",
      "metadata": {
        "id": "WJTHGWxnEigp"
      },
      "source": [
        "# # aplicando o preenchimento com a moda\n",
        "# df.fillna(df.mode()[0], inplace=True)"
      ],
      "execution_count": null,
      "outputs": []
    },
    {
      "cell_type": "code",
      "metadata": {
        "id": "M58ZqGZuEieY"
      },
      "source": [
        "# # contabiblizando valores nulos e/ou faltantes do conjunto de dados\n",
        "# df.isnull().sum()"
      ],
      "execution_count": null,
      "outputs": []
    },
    {
      "cell_type": "code",
      "metadata": {
        "colab": {
          "base_uri": "https://localhost:8080/"
        },
        "id": "k9onVsq9EibU",
        "outputId": "e2e7c459-02c5-423f-9489-65706c2b4db0"
      },
      "source": [
        "df.info()"
      ],
      "execution_count": null,
      "outputs": [
        {
          "output_type": "stream",
          "name": "stdout",
          "text": [
            "<class 'pandas.core.frame.DataFrame'>\n",
            "Int64Index: 149279 entries, 0 to 149999\n",
            "Data columns (total 11 columns):\n",
            " #   Column                                 Non-Null Count   Dtype  \n",
            "---  ------                                 --------------   -----  \n",
            " 0   inadimplente                           109405 non-null  float64\n",
            " 1   util_linhas_inseguras                  149279 non-null  float64\n",
            " 2   idade                                  149279 non-null  int64  \n",
            " 3   vezes_passou_de_30_59_dias             149279 non-null  int64  \n",
            " 4   razao_debito                           149279 non-null  float64\n",
            " 5   salario_mensal                         120150 non-null  float64\n",
            " 6   numero_linhas_crdto_aberto             149279 non-null  int64  \n",
            " 7   numero_vezes_passou_90_dias            149279 non-null  int64  \n",
            " 8   numero_emprestimos_imobiliarios        149279 non-null  int64  \n",
            " 9   numero_de_vezes_que_passou_60_89_dias  149279 non-null  int64  \n",
            " 10  numero_de_dependentes                  145473 non-null  float64\n",
            "dtypes: float64(5), int64(6)\n",
            "memory usage: 13.7 MB\n"
          ]
        }
      ]
    },
    {
      "cell_type": "code",
      "metadata": {
        "id": "Tx-v9gOOEiXK"
      },
      "source": [
        "# criando uma função para separar as colunas numéricas e categóricas do conjunto de dados\n",
        "df_copy = df.copy()     # criando uma cópia da base de dados\n",
        "\n",
        "def separate_cols(df):\n",
        "    cols_cats = []\n",
        "    cols_nums = []\n",
        "\n",
        "    for col in df.columns:     # excluindo a último coluna - o alvo\n",
        "    # for col in df.drop('Downloads'):\n",
        "        if df.dtypes[col] == 'object':\n",
        "            cols_cats.append(col)\n",
        "        else:\n",
        "            cols_nums.append(col)\n",
        "    \n",
        "    return f'cols categ: {len(cols_cats), cols_cats}', f'cols nums: {len(cols_nums), cols_nums}'"
      ],
      "execution_count": null,
      "outputs": []
    },
    {
      "cell_type": "code",
      "metadata": {
        "colab": {
          "base_uri": "https://localhost:8080/"
        },
        "id": "DbGSvwHkEiIE",
        "outputId": "1bee1f6d-76c6-4376-e9fa-cfa287a7b472"
      },
      "source": [
        "# aplicando a função no df_copy\n",
        "separate_cols(df_copy)"
      ],
      "execution_count": null,
      "outputs": [
        {
          "output_type": "execute_result",
          "data": {
            "text/plain": [
              "('cols categ: (0, [])',\n",
              " \"cols nums: (11, ['inadimplente', 'util_linhas_inseguras', 'idade', 'vezes_passou_de_30_59_dias', 'razao_debito', 'salario_mensal', 'numero_linhas_crdto_aberto', 'numero_vezes_passou_90_dias', 'numero_emprestimos_imobiliarios', 'numero_de_vezes_que_passou_60_89_dias', 'numero_de_dependentes'])\")"
            ]
          },
          "metadata": {},
          "execution_count": 46
        }
      ]
    },
    {
      "cell_type": "code",
      "metadata": {
        "id": "nS0AanRlHGf4"
      },
      "source": [
        "# instanciando as bases de dados de treino e teste\n",
        "df_train = df[df['inadimplente'].isnull() == False]\n",
        "df_test = df[df['inadimplente'].isnull() == True]\n",
        "\n",
        "# deletando o atributo \"Downloads\" da base de dados de teste\n",
        "del df_test['inadimplente']"
      ],
      "execution_count": null,
      "outputs": []
    },
    {
      "cell_type": "code",
      "metadata": {
        "colab": {
          "base_uri": "https://localhost:8080/"
        },
        "id": "p_1ESEA5HGdD",
        "outputId": "3c1171eb-4af6-4754-f338-ef5da42ae11d"
      },
      "source": [
        "df_train.shape, df_test.shape"
      ],
      "execution_count": null,
      "outputs": [
        {
          "output_type": "execute_result",
          "data": {
            "text/plain": [
              "((109405, 11), (39874, 10))"
            ]
          },
          "metadata": {},
          "execution_count": 48
        }
      ]
    },
    {
      "cell_type": "code",
      "metadata": {
        "id": "11mfLfHZHGbM"
      },
      "source": [
        "# separando as variáveis explicativas (X) e a resposta (y)\n",
        "X = df_train.drop(labels=['inadimplente'], axis=1)\n",
        "y = df_train['inadimplente'].values"
      ],
      "execution_count": null,
      "outputs": []
    },
    {
      "cell_type": "code",
      "metadata": {
        "id": "JCpLoFeVSmFv"
      },
      "source": [
        "# # aplicando o preenchimento com a moda\n",
        "# y.fillna(y.mode()[0], inplace=True)"
      ],
      "execution_count": null,
      "outputs": []
    },
    {
      "cell_type": "code",
      "metadata": {
        "id": "ueS259TYHGYv"
      },
      "source": [
        "# importando a biblioteca para realizar o particionamento dos dados em treino e validação do modelo\n",
        "from sklearn.model_selection import train_test_split\n",
        "\n",
        "# aplicando a divisão dos dados em treino e teste\n",
        "X_train, X_val, y_train, y_val = train_test_split(X, y, \n",
        "                                                  test_size=0.3,\n",
        "                                                  random_state=101, \n",
        "                                                  stratify=y)"
      ],
      "execution_count": null,
      "outputs": []
    },
    {
      "cell_type": "code",
      "metadata": {
        "colab": {
          "base_uri": "https://localhost:8080/"
        },
        "id": "Qg40w-9mHGXM",
        "outputId": "84c327bb-86ad-404e-fe89-f42d4f0281fb"
      },
      "source": [
        "# visualizando a dimensão das bases de dados - treino e validação\n",
        "X_train.shape, X_val.shape, y_train.shape, y_val.shape"
      ],
      "execution_count": null,
      "outputs": [
        {
          "output_type": "execute_result",
          "data": {
            "text/plain": [
              "((76583, 10), (32822, 10), (76583,), (32822,))"
            ]
          },
          "metadata": {},
          "execution_count": 52
        }
      ]
    },
    {
      "cell_type": "code",
      "metadata": {
        "id": "gE9piXl1HGUG"
      },
      "source": [
        "# instanciando o objeto \"df_train\", para isso utilizamos a função \".DMatrix\" do XGBoost\n",
        "# e passando como argumentos os dados de treino \"df_train\" e os seus rótulos \"y_train\"\n",
        "df_train = xgb.DMatrix(X_train, label=y_train)\n",
        "\n",
        "# instanciando o objeto \"df_test\", para isso utilizamos a função \".DMatrix\" do XGBoost\n",
        "df_test = xgb.DMatrix(X_val)"
      ],
      "execution_count": null,
      "outputs": []
    },
    {
      "cell_type": "code",
      "metadata": {
        "id": "bWW-Xlk5KBLr"
      },
      "source": [
        "# instanciando um dicionário com os parâmetros do segundo modelo\n",
        "params_xgb = {\n",
        "    'n_estimators': 1300,\n",
        "    'max_depth': 6,\n",
        "    'min_child_weight': 4,\n",
        "    'subsample': 0.9,\n",
        "    'colsample_bynode': 0.5,\n",
        "    'random_state': 42, \n",
        "    'num_parallel_tree': 3,\n",
        "    'booster': 'gbtree',\n",
        "    'objective': 'binary:logistic',\n",
        "    'eval_metric': 'aucpr', \n",
        "    'learning_rate': 0.5 \n",
        "}                            "
      ],
      "execution_count": null,
      "outputs": []
    },
    {
      "cell_type": "code",
      "metadata": {
        "colab": {
          "base_uri": "https://localhost:8080/"
        },
        "id": "hV-w3g7IKBIu",
        "outputId": "b656bf34-d65d-4d48-eb3a-ef8ecf869e76"
      },
      "source": [
        "# definindo o número de treinamento\n",
        "num_round = 150\n",
        "\n",
        "# importando a função para contabilizar o tempo de treinbamento do modelo\n",
        "from datetime import datetime\n",
        "start = datetime.now()\n",
        "\n",
        "# treinando o primeiro modelo\n",
        "model_xgb = xgb.train(params_xgb, df_train, num_round)\n",
        "stop = datetime.now()\n",
        "\n",
        "# visualizando o seu tempo de execução\n",
        "execution_time_xgb = stop - start\n",
        "execution_time_xgb"
      ],
      "execution_count": null,
      "outputs": [
        {
          "output_type": "execute_result",
          "data": {
            "text/plain": [
              "datetime.timedelta(seconds=22, microseconds=508393)"
            ]
          },
          "metadata": {},
          "execution_count": 55
        }
      ]
    },
    {
      "cell_type": "code",
      "metadata": {
        "colab": {
          "base_uri": "https://localhost:8080/"
        },
        "id": "V9byPyRrKBGk",
        "outputId": "f86a2d1d-4bda-47c0-843a-2fd8921ccd62"
      },
      "source": [
        "# realizando as predições\n",
        "y_pred_xgb = model_xgb.predict(df_test)\n",
        "\n",
        "# tamanho das predições realizadas\n",
        "y_pred_xgb.size"
      ],
      "execution_count": null,
      "outputs": [
        {
          "output_type": "execute_result",
          "data": {
            "text/plain": [
              "32822"
            ]
          },
          "metadata": {},
          "execution_count": 56
        }
      ]
    },
    {
      "cell_type": "code",
      "metadata": {
        "colab": {
          "base_uri": "https://localhost:8080/"
        },
        "id": "CevSEJefKBEc",
        "outputId": "85ff016b-c22b-49be-9c8d-e066f8ee3a37"
      },
      "source": [
        "# visualizando as 10 primeiras predições\n",
        "y_pred_xgb[:10]"
      ],
      "execution_count": null,
      "outputs": [
        {
          "output_type": "execute_result",
          "data": {
            "text/plain": [
              "array([0.02876811, 0.05456643, 0.00937734, 0.41526628, 0.00409489,\n",
              "       0.00467735, 0.00281006, 0.00198778, 0.08583896, 0.00295131],\n",
              "      dtype=float32)"
            ]
          },
          "metadata": {},
          "execution_count": 57
        }
      ]
    },
    {
      "cell_type": "code",
      "metadata": {
        "id": "PkSyf-A7KBCF"
      },
      "source": [
        "# realizando um \"for\" para definir o \"corte\" das probabilidades realizadas pelo modelo\n",
        "# e instanciando as classes\n",
        "for i in range(0, len(y_pred_xgb)):\n",
        "    if y_pred_xgb[i] >= 0.75:\n",
        "        y_pred_xgb[i] = 1\n",
        "    else:\n",
        "        y_pred_xgb[i] = 0"
      ],
      "execution_count": null,
      "outputs": []
    },
    {
      "cell_type": "code",
      "metadata": {
        "id": "EHcRCUsOKBAF"
      },
      "source": [
        "# importando a biblioteca para avaliação do modelo\n",
        "from sklearn.metrics import accuracy_score"
      ],
      "execution_count": null,
      "outputs": []
    },
    {
      "cell_type": "code",
      "metadata": {
        "colab": {
          "base_uri": "https://localhost:8080/"
        },
        "id": "2cUy_8cbKA9a",
        "outputId": "276f9de4-13a2-4a6b-9888-60efb03ed6de"
      },
      "source": [
        "# realizando avaliação do modelo\n",
        "acc_model_xgb = accuracy_score(y_pred_xgb, y_val)\n",
        "acc_model_xgb"
      ],
      "execution_count": null,
      "outputs": [
        {
          "output_type": "execute_result",
          "data": {
            "text/plain": [
              "0.9352263725549936"
            ]
          },
          "metadata": {},
          "execution_count": 60
        }
      ]
    },
    {
      "cell_type": "code",
      "metadata": {
        "colab": {
          "base_uri": "https://localhost:8080/"
        },
        "id": "x3WpnvVtKA7S",
        "outputId": "38ab693b-1835-4778-8b2a-8d9315293c11"
      },
      "source": [
        "# aplicando o segundo modelo com dados após o tratamento\n",
        "model = xgb.XGBClassifier(eval_metric= 'aucpr', use_label_encoder=False,\n",
        "                          base_score=(1-1/proportion), \n",
        "                          scale_pos_weight=proportion, \n",
        "                          eta=0.02, alpha=100)\n",
        "\n",
        "model.fit(X_train, y_train)\n",
        "\n",
        "predicted = model.predict(X_val)\n",
        "probs = model.predict_proba(X_val)\n",
        "\n",
        "# expected = y_val\n",
        "\n",
        "print(\"Extreme Gradient Boosting Model Metrics:\\n\")\n",
        "print(metrics.classification_report(y_val, predicted))\n",
        "print(\"\\n Confusion Matrix:\\n [[TP       FN]\\n [FP       TN]]\\n\", metrics.confusion_matrix(y_val, predicted))\n",
        "print(\"\\nProbability:\\n\", probs[:,1])"
      ],
      "execution_count": null,
      "outputs": [
        {
          "output_type": "stream",
          "name": "stdout",
          "text": [
            "Extreme Gradient Boosting Model Metrics:\n",
            "\n",
            "              precision    recall  f1-score   support\n",
            "\n",
            "         0.0       0.98      0.79      0.88     30630\n",
            "         1.0       0.21      0.79      0.33      2192\n",
            "\n",
            "    accuracy                           0.79     32822\n",
            "   macro avg       0.60      0.79      0.60     32822\n",
            "weighted avg       0.93      0.79      0.84     32822\n",
            "\n",
            "\n",
            " Confusion Matrix:\n",
            " [[TP       FN]\n",
            " [FP       TN]]\n",
            " [[24186  6444]\n",
            " [  457  1735]]\n",
            "\n",
            "Probability:\n",
            " [0.29558885 0.5231311  0.09381548 ... 0.47268167 0.11802781 0.07082993]\n"
          ]
        }
      ]
    },
    {
      "cell_type": "code",
      "metadata": {
        "colab": {
          "base_uri": "https://localhost:8080/",
          "height": 696
        },
        "id": "DxoXhsa_jrZu",
        "outputId": "fcfe09da-0307-4054-d95a-4f2198cdbd09"
      },
      "source": [
        "# imprimindo o relatório de classificação dos dados de validação do modelo\n",
        "print(metrics.classification_report(y_val, predicted))\n",
        "\n",
        "# visualizando graficamente a matriz de confusão dos dados de validação do modelo\n",
        "fig = plt.figure(figsize=[10, 8])\n",
        "fig.suptitle('Matriz de Confusão', fontsize=18, fontweight='bold')\n",
        "\n",
        "sns.heatmap(metrics.confusion_matrix(y_val, predicted), cmap='Blues', annot=True)\n",
        "plt.title('Árvore de Decisão - validação', fontsize=14)\n",
        "plt.xticks()\n",
        "plt.yticks()\n",
        "\n",
        "plt.annotate('TP', (0.2,0.5), fontsize=18, fontweight='bold', color='green')\n",
        "plt.annotate('FN', (1.2,0.5), fontsize=18, fontweight='bold', color='red')\n",
        "plt.annotate('FP', (0.2,1.5), fontsize=18, fontweight='bold', color='red')\n",
        "plt.annotate('TN', (1.2,1.5), fontsize=18, fontweight='bold', color='green')\n",
        "\n",
        "plt.show();"
      ],
      "execution_count": null,
      "outputs": [
        {
          "output_type": "stream",
          "name": "stdout",
          "text": [
            "              precision    recall  f1-score   support\n",
            "\n",
            "         0.0       0.98      0.79      0.88     30630\n",
            "         1.0       0.21      0.79      0.33      2192\n",
            "\n",
            "    accuracy                           0.79     32822\n",
            "   macro avg       0.60      0.79      0.60     32822\n",
            "weighted avg       0.93      0.79      0.84     32822\n",
            "\n"
          ]
        },
        {
          "output_type": "display_data",
          "data": {
            "image/png": "[encoded data removed]",
            "text/plain": [
              "<Figure size 720x576 with 2 Axes>"
            ]
          },
          "metadata": {
            "needs_background": "light"
          }
        }
      ]
    },
    {
      "cell_type": "code",
      "metadata": {
        "colab": {
          "base_uri": "https://localhost:8080/",
          "height": 424
        },
        "id": "h8eiq_a1KA4B",
        "outputId": "48aeadd1-d194-4fe5-9381-a6f87e8e9708"
      },
      "source": [
        "predicted = model.predict(test_data)\n",
        "probs = model.predict_proba(test_data)[:,1]*100\n",
        "\n",
        "output = {'inadimplente': predicted, 'probabilidade %': probs}\n",
        "output = pd.DataFrame(data=output)\n",
        "output.to_csv('output.csv',index=False)\n",
        "\n",
        "predicted = pd.DataFrame({'inadimplente': predicted})\n",
        "\n",
        "Submission_File = predicted.join(test_data)\n",
        "Submission_File.to_csv('Submission_File.csv',index=False)\n",
        "\n",
        "output"
      ],
      "execution_count": null,
      "outputs": [
        {
          "output_type": "execute_result",
          "data": {
            "text/html": [
              "<div>\n",
              "<style scoped>\n",
              "    .dataframe tbody tr th:only-of-type {\n",
              "        vertical-align: middle;\n",
              "    }\n",
              "\n",
              "    .dataframe tbody tr th {\n",
              "        vertical-align: top;\n",
              "    }\n",
              "\n",
              "    .dataframe thead th {\n",
              "        text-align: right;\n",
              "    }\n",
              "</style>\n",
              "<table border=\"1\" class=\"dataframe\">\n",
              "  <thead>\n",
              "    <tr style=\"text-align: right;\">\n",
              "      <th></th>\n",
              "      <th>inadimplente</th>\n",
              "      <th>probabilidade %</th>\n",
              "    </tr>\n",
              "  </thead>\n",
              "  <tbody>\n",
              "    <tr>\n",
              "      <th>0</th>\n",
              "      <td>0.0</td>\n",
              "      <td>7.249581</td>\n",
              "    </tr>\n",
              "    <tr>\n",
              "      <th>1</th>\n",
              "      <td>0.0</td>\n",
              "      <td>39.889847</td>\n",
              "    </tr>\n",
              "    <tr>\n",
              "      <th>2</th>\n",
              "      <td>0.0</td>\n",
              "      <td>20.078035</td>\n",
              "    </tr>\n",
              "    <tr>\n",
              "      <th>3</th>\n",
              "      <td>1.0</td>\n",
              "      <td>53.541069</td>\n",
              "    </tr>\n",
              "    <tr>\n",
              "      <th>4</th>\n",
              "      <td>0.0</td>\n",
              "      <td>14.444592</td>\n",
              "    </tr>\n",
              "    <tr>\n",
              "      <th>...</th>\n",
              "      <td>...</td>\n",
              "      <td>...</td>\n",
              "    </tr>\n",
              "    <tr>\n",
              "      <th>39995</th>\n",
              "      <td>1.0</td>\n",
              "      <td>74.072197</td>\n",
              "    </tr>\n",
              "    <tr>\n",
              "      <th>39996</th>\n",
              "      <td>0.0</td>\n",
              "      <td>7.124867</td>\n",
              "    </tr>\n",
              "    <tr>\n",
              "      <th>39997</th>\n",
              "      <td>0.0</td>\n",
              "      <td>49.381870</td>\n",
              "    </tr>\n",
              "    <tr>\n",
              "      <th>39998</th>\n",
              "      <td>1.0</td>\n",
              "      <td>77.168053</td>\n",
              "    </tr>\n",
              "    <tr>\n",
              "      <th>39999</th>\n",
              "      <td>1.0</td>\n",
              "      <td>89.615555</td>\n",
              "    </tr>\n",
              "  </tbody>\n",
              "</table>\n",
              "<p>40000 rows × 2 columns</p>\n",
              "</div>"
            ],
            "text/plain": [
              "       inadimplente  probabilidade %\n",
              "0               0.0         7.249581\n",
              "1               0.0        39.889847\n",
              "2               0.0        20.078035\n",
              "3               1.0        53.541069\n",
              "4               0.0        14.444592\n",
              "...             ...              ...\n",
              "39995           1.0        74.072197\n",
              "39996           0.0         7.124867\n",
              "39997           0.0        49.381870\n",
              "39998           1.0        77.168053\n",
              "39999           1.0        89.615555\n",
              "\n",
              "[40000 rows x 2 columns]"
            ]
          },
          "metadata": {},
          "execution_count": 63
        }
      ]
    },
    {
      "cell_type": "code",
      "metadata": {
        "id": "mZLQjUOEfR7n"
      },
      "source": [
        ""
      ],
      "execution_count": null,
      "outputs": []
    },
    {
      "cell_type": "code",
      "metadata": {
        "id": "NDynepozfRym"
      },
      "source": [
        ""
      ],
      "execution_count": null,
      "outputs": []
    },
    {
      "cell_type": "code",
      "metadata": {
        "id": "Cw01ALkpfRno"
      },
      "source": [
        ""
      ],
      "execution_count": null,
      "outputs": []
    },
    {
      "cell_type": "code",
      "metadata": {
        "id": "RtMxhwoPhlin"
      },
      "source": [
        ""
      ],
      "execution_count": null,
      "outputs": []
    }
  ]
}